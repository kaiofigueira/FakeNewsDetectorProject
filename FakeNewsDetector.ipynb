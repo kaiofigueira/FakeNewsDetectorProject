{
 "cells": [
  {
   "cell_type": "markdown",
   "metadata": {
    "id": "x39iI2rYviT9"
   },
   "source": [
    "## imports"
   ]
  },
  {
   "cell_type": "code",
   "execution_count": null,
   "metadata": {
    "colab": {
     "base_uri": "https://localhost:8080/"
    },
    "executionInfo": {
     "elapsed": 23441,
     "status": "ok",
     "timestamp": 1684472656290,
     "user": {
      "displayName": "Kaio Figueira",
      "userId": "12273812170235882328"
     },
     "user_tz": 180
    },
    "id": "1iJhJ__eGDYn",
    "outputId": "27b10f51-5668-4bbd-cef0-85fa352b87d7"
   },
   "outputs": [
    {
     "name": "stdout",
     "output_type": "stream",
     "text": [
      "Looking in indexes: https://pypi.org/simple, https://us-python.pkg.dev/colab-wheels/public/simple/\n",
      "Collecting emoji\n",
      "  Downloading emoji-2.2.0.tar.gz (240 kB)\n",
      "\u001b[2K     \u001b[90m━━━━━━━━━━━━━━━━━━━━━━━━━━━━━━━━━━━━━━━\u001b[0m \u001b[32m240.9/240.9 kB\u001b[0m \u001b[31m5.5 MB/s\u001b[0m eta \u001b[36m0:00:00\u001b[0m\n",
      "\u001b[?25h  Preparing metadata (setup.py) ... \u001b[?25l\u001b[?25hdone\n",
      "Building wheels for collected packages: emoji\n",
      "  Building wheel for emoji (setup.py) ... \u001b[?25l\u001b[?25hdone\n",
      "  Created wheel for emoji: filename=emoji-2.2.0-py3-none-any.whl size=234911 sha256=0ecf3ce27653fba5d6853cff28f9750ab84f69edc2870aec0789a6eb25fb0b8a\n",
      "  Stored in directory: /root/.cache/pip/wheels/02/3d/88/51a592b9ad17e7899126563698b4e3961983ebe85747228ba6\n",
      "Successfully built emoji\n",
      "Installing collected packages: emoji\n",
      "Successfully installed emoji-2.2.0\n",
      "Looking in indexes: https://pypi.org/simple, https://us-python.pkg.dev/colab-wheels/public/simple/\n",
      "Requirement already satisfied: wordcloud in /usr/local/lib/python3.10/dist-packages (1.8.2.2)\n",
      "Requirement already satisfied: numpy>=1.6.1 in /usr/local/lib/python3.10/dist-packages (from wordcloud) (1.22.4)\n",
      "Requirement already satisfied: pillow in /usr/local/lib/python3.10/dist-packages (from wordcloud) (8.4.0)\n",
      "Requirement already satisfied: matplotlib in /usr/local/lib/python3.10/dist-packages (from wordcloud) (3.7.1)\n",
      "Requirement already satisfied: contourpy>=1.0.1 in /usr/local/lib/python3.10/dist-packages (from matplotlib->wordcloud) (1.0.7)\n",
      "Requirement already satisfied: cycler>=0.10 in /usr/local/lib/python3.10/dist-packages (from matplotlib->wordcloud) (0.11.0)\n",
      "Requirement already satisfied: fonttools>=4.22.0 in /usr/local/lib/python3.10/dist-packages (from matplotlib->wordcloud) (4.39.3)\n",
      "Requirement already satisfied: kiwisolver>=1.0.1 in /usr/local/lib/python3.10/dist-packages (from matplotlib->wordcloud) (1.4.4)\n",
      "Requirement already satisfied: packaging>=20.0 in /usr/local/lib/python3.10/dist-packages (from matplotlib->wordcloud) (23.1)\n",
      "Requirement already satisfied: pyparsing>=2.3.1 in /usr/local/lib/python3.10/dist-packages (from matplotlib->wordcloud) (3.0.9)\n",
      "Requirement already satisfied: python-dateutil>=2.7 in /usr/local/lib/python3.10/dist-packages (from matplotlib->wordcloud) (2.8.2)\n",
      "Requirement already satisfied: six>=1.5 in /usr/local/lib/python3.10/dist-packages (from python-dateutil>=2.7->matplotlib->wordcloud) (1.16.0)\n"
     ]
    }
   ],
   "source": [
    "!pip install emoji\n",
    "!pip install wordcloud"
   ]
  },
  {
   "cell_type": "code",
   "execution_count": null,
   "metadata": {
    "colab": {
     "base_uri": "https://localhost:8080/"
    },
    "executionInfo": {
     "elapsed": 176917,
     "status": "ok",
     "timestamp": 1684472833194,
     "user": {
      "displayName": "Kaio Figueira",
      "userId": "12273812170235882328"
     },
     "user_tz": 180
    },
    "id": "sDWezyD0_vMs",
    "outputId": "00bef312-d0c9-404b-850e-5df29ef41e89"
   },
   "outputs": [
    {
     "name": "stdout",
     "output_type": "stream",
     "text": [
      "Mounted at /content/drive\n"
     ]
    }
   ],
   "source": [
    "from google.colab import drive\n",
    "drive.mount('/content/drive')"
   ]
  },
  {
   "cell_type": "code",
   "execution_count": null,
   "metadata": {
    "colab": {
     "base_uri": "https://localhost:8080/"
    },
    "executionInfo": {
     "elapsed": 1487,
     "status": "ok",
     "timestamp": 1684472834663,
     "user": {
      "displayName": "Kaio Figueira",
      "userId": "12273812170235882328"
     },
     "user_tz": 180
    },
    "id": "3YXZj2zIF0Nb",
    "outputId": "ce5900c0-cae4-47ae-fc86-1ac06348648e"
   },
   "outputs": [
    {
     "name": "stderr",
     "output_type": "stream",
     "text": [
      "[nltk_data] Downloading package punkt to /root/nltk_data...\n",
      "[nltk_data]   Unzipping tokenizers/punkt.zip.\n",
      "[nltk_data] Downloading package stopwords to /root/nltk_data...\n",
      "[nltk_data]   Unzipping corpora/stopwords.zip.\n"
     ]
    }
   ],
   "source": [
    "import nltk\n",
    "nltk.download('punkt')\n",
    "nltk.download('stopwords')\n",
    "\n",
    "from nltk.corpus import stopwords\n",
    "stop_words = stopwords.words('english')\n",
    "\n",
    "from nltk.stem.porter import PorterStemmer\n",
    "import emoji\n",
    "import string"
   ]
  },
  {
   "cell_type": "code",
   "execution_count": null,
   "metadata": {
    "id": "fVq0lDI9b5eR"
   },
   "outputs": [],
   "source": [
    "import pandas as pd\n",
    "import numpy as np\n",
    "import matplotlib.pyplot as plt\n",
    "\n",
    "from sklearn.model_selection import train_test_split\n"
   ]
  },
  {
   "cell_type": "code",
   "execution_count": null,
   "metadata": {
    "id": "G_lz0Pzccou5"
   },
   "outputs": [],
   "source": [
    "import tensorflow as tf"
   ]
  },
  {
   "cell_type": "code",
   "execution_count": null,
   "metadata": {
    "colab": {
     "base_uri": "https://localhost:8080/"
    },
    "executionInfo": {
     "elapsed": 1211,
     "status": "ok",
     "timestamp": 1684472839497,
     "user": {
      "displayName": "Kaio Figueira",
      "userId": "12273812170235882328"
     },
     "user_tz": 180
    },
    "id": "V6fX4W76FpDJ",
    "outputId": "96bf482d-34c4-4be6-f47d-6ffd7b1815b8"
   },
   "outputs": [
    {
     "data": {
      "text/plain": [
       "[PhysicalDevice(name='/physical_device:GPU:0', device_type='GPU')]"
      ]
     },
     "execution_count": 6,
     "metadata": {},
     "output_type": "execute_result"
    }
   ],
   "source": [
    "tf.config.list_physical_devices('GPU')"
   ]
  },
  {
   "cell_type": "markdown",
   "metadata": {
    "id": "t5WYJL9hvqqw"
   },
   "source": [
    "## Carregando os dados\n"
   ]
  },
  {
   "cell_type": "code",
   "execution_count": null,
   "metadata": {
    "colab": {
     "base_uri": "https://localhost:8080/"
    },
    "executionInfo": {
     "elapsed": 1668,
     "status": "ok",
     "timestamp": 1684472841157,
     "user": {
      "displayName": "Kaio Figueira",
      "userId": "12273812170235882328"
     },
     "user_tz": 180
    },
    "id": "DoV-ujF5Od1I",
    "outputId": "cd8fb936-e07e-4713-d516-075f35f52e5d"
   },
   "outputs": [
    {
     "data": {
      "text/html": [
       "\n",
       "  <div id=\"df-5f03cadf-9181-4e87-b7f2-5992c5219d2b\">\n",
       "    <div class=\"colab-df-container\">\n",
       "      <div>\n",
       "<style scoped>\n",
       "    .dataframe tbody tr th:only-of-type {\n",
       "        vertical-align: middle;\n",
       "    }\n",
       "\n",
       "    .dataframe tbody tr th {\n",
       "        vertical-align: top;\n",
       "    }\n",
       "\n",
       "    .dataframe thead th {\n",
       "        text-align: right;\n",
       "    }\n",
       "</style>\n",
       "<table border=\"1\" class=\"dataframe\">\n",
       "  <thead>\n",
       "    <tr style=\"text-align: right;\">\n",
       "      <th></th>\n",
       "      <th>title</th>\n",
       "      <th>text</th>\n",
       "      <th>label</th>\n",
       "    </tr>\n",
       "  </thead>\n",
       "  <tbody>\n",
       "    <tr>\n",
       "      <th>8476</th>\n",
       "      <td>You Can Smell Hillary’s Fear</td>\n",
       "      <td>Daniel Greenfield, a Shillman Journalism Fello...</td>\n",
       "      <td>FAKE</td>\n",
       "    </tr>\n",
       "    <tr>\n",
       "      <th>10294</th>\n",
       "      <td>Watch The Exact Moment Paul Ryan Committed Pol...</td>\n",
       "      <td>Google Pinterest Digg Linkedin Reddit Stumbleu...</td>\n",
       "      <td>FAKE</td>\n",
       "    </tr>\n",
       "    <tr>\n",
       "      <th>3608</th>\n",
       "      <td>Kerry to go to Paris in gesture of sympathy</td>\n",
       "      <td>U.S. Secretary of State John F. Kerry said Mon...</td>\n",
       "      <td>REAL</td>\n",
       "    </tr>\n",
       "    <tr>\n",
       "      <th>10142</th>\n",
       "      <td>Bernie supporters on Twitter erupt in anger ag...</td>\n",
       "      <td>— Kaydee King (@KaydeeKing) November 9, 2016 T...</td>\n",
       "      <td>FAKE</td>\n",
       "    </tr>\n",
       "    <tr>\n",
       "      <th>875</th>\n",
       "      <td>The Battle of New York: Why This Primary Matters</td>\n",
       "      <td>It's primary day in New York and front-runners...</td>\n",
       "      <td>REAL</td>\n",
       "    </tr>\n",
       "    <tr>\n",
       "      <th>...</th>\n",
       "      <td>...</td>\n",
       "      <td>...</td>\n",
       "      <td>...</td>\n",
       "    </tr>\n",
       "    <tr>\n",
       "      <th>4490</th>\n",
       "      <td>State Department says it can't find emails fro...</td>\n",
       "      <td>The State Department told the Republican Natio...</td>\n",
       "      <td>REAL</td>\n",
       "    </tr>\n",
       "    <tr>\n",
       "      <th>8062</th>\n",
       "      <td>The ‘P’ in PBS Should Stand for ‘Plutocratic’ ...</td>\n",
       "      <td>The ‘P’ in PBS Should Stand for ‘Plutocratic’ ...</td>\n",
       "      <td>FAKE</td>\n",
       "    </tr>\n",
       "    <tr>\n",
       "      <th>8622</th>\n",
       "      <td>Anti-Trump Protesters Are Tools of the Oligarc...</td>\n",
       "      <td>Anti-Trump Protesters Are Tools of the Oligar...</td>\n",
       "      <td>FAKE</td>\n",
       "    </tr>\n",
       "    <tr>\n",
       "      <th>4021</th>\n",
       "      <td>In Ethiopia, Obama seeks progress on peace, se...</td>\n",
       "      <td>ADDIS ABABA, Ethiopia —President Obama convene...</td>\n",
       "      <td>REAL</td>\n",
       "    </tr>\n",
       "    <tr>\n",
       "      <th>4330</th>\n",
       "      <td>Jeb Bush Is Suddenly Attacking Trump. Here's W...</td>\n",
       "      <td>Jeb Bush Is Suddenly Attacking Trump. Here's W...</td>\n",
       "      <td>REAL</td>\n",
       "    </tr>\n",
       "  </tbody>\n",
       "</table>\n",
       "<p>6335 rows × 3 columns</p>\n",
       "</div>\n",
       "      <button class=\"colab-df-convert\" onclick=\"convertToInteractive('df-5f03cadf-9181-4e87-b7f2-5992c5219d2b')\"\n",
       "              title=\"Convert this dataframe to an interactive table.\"\n",
       "              style=\"display:none;\">\n",
       "        \n",
       "  <svg xmlns=\"http://www.w3.org/2000/svg\" height=\"24px\"viewBox=\"0 0 24 24\"\n",
       "       width=\"24px\">\n",
       "    <path d=\"M0 0h24v24H0V0z\" fill=\"none\"/>\n",
       "    <path d=\"M18.56 5.44l.94 2.06.94-2.06 2.06-.94-2.06-.94-.94-2.06-.94 2.06-2.06.94zm-11 1L8.5 8.5l.94-2.06 2.06-.94-2.06-.94L8.5 2.5l-.94 2.06-2.06.94zm10 10l.94 2.06.94-2.06 2.06-.94-2.06-.94-.94-2.06-.94 2.06-2.06.94z\"/><path d=\"M17.41 7.96l-1.37-1.37c-.4-.4-.92-.59-1.43-.59-.52 0-1.04.2-1.43.59L10.3 9.45l-7.72 7.72c-.78.78-.78 2.05 0 2.83L4 21.41c.39.39.9.59 1.41.59.51 0 1.02-.2 1.41-.59l7.78-7.78 2.81-2.81c.8-.78.8-2.07 0-2.86zM5.41 20L4 18.59l7.72-7.72 1.47 1.35L5.41 20z\"/>\n",
       "  </svg>\n",
       "      </button>\n",
       "      \n",
       "  <style>\n",
       "    .colab-df-container {\n",
       "      display:flex;\n",
       "      flex-wrap:wrap;\n",
       "      gap: 12px;\n",
       "    }\n",
       "\n",
       "    .colab-df-convert {\n",
       "      background-color: #E8F0FE;\n",
       "      border: none;\n",
       "      border-radius: 50%;\n",
       "      cursor: pointer;\n",
       "      display: none;\n",
       "      fill: #1967D2;\n",
       "      height: 32px;\n",
       "      padding: 0 0 0 0;\n",
       "      width: 32px;\n",
       "    }\n",
       "\n",
       "    .colab-df-convert:hover {\n",
       "      background-color: #E2EBFA;\n",
       "      box-shadow: 0px 1px 2px rgba(60, 64, 67, 0.3), 0px 1px 3px 1px rgba(60, 64, 67, 0.15);\n",
       "      fill: #174EA6;\n",
       "    }\n",
       "\n",
       "    [theme=dark] .colab-df-convert {\n",
       "      background-color: #3B4455;\n",
       "      fill: #D2E3FC;\n",
       "    }\n",
       "\n",
       "    [theme=dark] .colab-df-convert:hover {\n",
       "      background-color: #434B5C;\n",
       "      box-shadow: 0px 1px 3px 1px rgba(0, 0, 0, 0.15);\n",
       "      filter: drop-shadow(0px 1px 2px rgba(0, 0, 0, 0.3));\n",
       "      fill: #FFFFFF;\n",
       "    }\n",
       "  </style>\n",
       "\n",
       "      <script>\n",
       "        const buttonEl =\n",
       "          document.querySelector('#df-5f03cadf-9181-4e87-b7f2-5992c5219d2b button.colab-df-convert');\n",
       "        buttonEl.style.display =\n",
       "          google.colab.kernel.accessAllowed ? 'block' : 'none';\n",
       "\n",
       "        async function convertToInteractive(key) {\n",
       "          const element = document.querySelector('#df-5f03cadf-9181-4e87-b7f2-5992c5219d2b');\n",
       "          const dataTable =\n",
       "            await google.colab.kernel.invokeFunction('convertToInteractive',\n",
       "                                                     [key], {});\n",
       "          if (!dataTable) return;\n",
       "\n",
       "          const docLinkHtml = 'Like what you see? Visit the ' +\n",
       "            '<a target=\"_blank\" href=https://colab.research.google.com/notebooks/data_table.ipynb>data table notebook</a>'\n",
       "            + ' to learn more about interactive tables.';\n",
       "          element.innerHTML = '';\n",
       "          dataTable['output_type'] = 'display_data';\n",
       "          await google.colab.output.renderOutput(dataTable, element);\n",
       "          const docLink = document.createElement('div');\n",
       "          docLink.innerHTML = docLinkHtml;\n",
       "          element.appendChild(docLink);\n",
       "        }\n",
       "      </script>\n",
       "    </div>\n",
       "  </div>\n",
       "  "
      ],
      "text/plain": [
       "                                                   title  \\\n",
       "8476                        You Can Smell Hillary’s Fear   \n",
       "10294  Watch The Exact Moment Paul Ryan Committed Pol...   \n",
       "3608         Kerry to go to Paris in gesture of sympathy   \n",
       "10142  Bernie supporters on Twitter erupt in anger ag...   \n",
       "875     The Battle of New York: Why This Primary Matters   \n",
       "...                                                  ...   \n",
       "4490   State Department says it can't find emails fro...   \n",
       "8062   The ‘P’ in PBS Should Stand for ‘Plutocratic’ ...   \n",
       "8622   Anti-Trump Protesters Are Tools of the Oligarc...   \n",
       "4021   In Ethiopia, Obama seeks progress on peace, se...   \n",
       "4330   Jeb Bush Is Suddenly Attacking Trump. Here's W...   \n",
       "\n",
       "                                                    text label  \n",
       "8476   Daniel Greenfield, a Shillman Journalism Fello...  FAKE  \n",
       "10294  Google Pinterest Digg Linkedin Reddit Stumbleu...  FAKE  \n",
       "3608   U.S. Secretary of State John F. Kerry said Mon...  REAL  \n",
       "10142  — Kaydee King (@KaydeeKing) November 9, 2016 T...  FAKE  \n",
       "875    It's primary day in New York and front-runners...  REAL  \n",
       "...                                                  ...   ...  \n",
       "4490   The State Department told the Republican Natio...  REAL  \n",
       "8062   The ‘P’ in PBS Should Stand for ‘Plutocratic’ ...  FAKE  \n",
       "8622    Anti-Trump Protesters Are Tools of the Oligar...  FAKE  \n",
       "4021   ADDIS ABABA, Ethiopia —President Obama convene...  REAL  \n",
       "4330   Jeb Bush Is Suddenly Attacking Trump. Here's W...  REAL  \n",
       "\n",
       "[6335 rows x 3 columns]"
      ]
     },
     "execution_count": 7,
     "metadata": {},
     "output_type": "execute_result"
    }
   ],
   "source": [
    "df_fakenews = pd.read_csv('/content/drive/MyDrive/Mentorama/ProjetoFinal/news.csv', index_col=[0])\n",
    "df_fakenews"
   ]
  },
  {
   "cell_type": "markdown",
   "metadata": {
    "id": "V7LtIJqUcKER"
   },
   "source": [
    "## Preprocessamento dos dados\n",
    "\n",
    "Nele é retirado emojis, stop words, hashtags\n",
    "\n",
    "Extrai os radicais das palavras(Stemming)[texto do link](https:// [texto do link](https://))"
   ]
  },
  {
   "cell_type": "code",
   "execution_count": null,
   "metadata": {
    "id": "3AczJmFlFMfl"
   },
   "outputs": [],
   "source": [
    "import re\n",
    "\n",
    "def preprocess_text(text, remove_stop = True, stem_words = False, remove_mentions_hashtags = True):\n",
    "    \"\"\"\n",
    "    eg:\n",
    "    input: preprocess_text(\"@water #dream hi hello where are you going be there tomorrow happening happen happens\",  \n",
    "    stem_words = True) \n",
    "    output: ['tomorrow', 'happen', 'go', 'hello']\n",
    "    \"\"\"\n",
    "\n",
    "    # Remove emojis\n",
    "    emoji_pattern = re.compile(\"[\" \"\\U0001F1E0-\\U0001F6FF\" \"]+\", flags=re.UNICODE)\n",
    "    text = emoji_pattern.sub(r\"\", text)\n",
    "    text = \"\".join([x for x in text if x not in emoji.EMOJI_DATA])\n",
    "\n",
    "    if remove_mentions_hashtags:\n",
    "        text = re.sub(r\"@(\\w+)\", \" \", text)\n",
    "        text = re.sub(r\"#(\\w+)\", \" \", text)\n",
    "\n",
    "    text = re.sub(r\"[^\\x00-\\x7F]+\", \" \", text)\n",
    "    regex = re.compile('[' + re.escape(string.punctuation) + '0-9\\\\r\\\\t\\\\n]') # remove pontuação e números\n",
    "    nopunct = regex.sub(\" \", text.lower())\n",
    "    words = (''.join(nopunct)).split()\n",
    "\n",
    "    if(remove_stop):\n",
    "        words = [w for w in words if w not in stop_words]\n",
    "        words = [w for w in words if len(w) > 2]  # remove a,an,of etc.\n",
    "\n",
    "    if(stem_words):\n",
    "        stemmer = PorterStemmer()\n",
    "        words = [stemmer.stem(w) for w in words]\n",
    "\n",
    "    return list(words)"
   ]
  },
  {
   "cell_type": "markdown",
   "metadata": {
    "id": "_JXJVt_LH93m"
   },
   "source": [
    "####Implementando a tokenização\n",
    "\n",
    "Ps: Optei por não fazer Stemming"
   ]
  },
  {
   "cell_type": "code",
   "execution_count": null,
   "metadata": {
    "id": "ot5I11WGFSRk"
   },
   "outputs": [],
   "source": [
    "rows, cols = df_fakenews.shape\n",
    "df_fakenews['token'] = [preprocess_text(i, stem_words=False) for i in df_fakenews.text]"
   ]
  },
  {
   "cell_type": "code",
   "execution_count": null,
   "metadata": {
    "id": "FHybsCBrGyv1"
   },
   "outputs": [],
   "source": [
    "df_fakenews.head(5)"
   ]
  },
  {
   "cell_type": "code",
   "execution_count": null,
   "metadata": {
    "colab": {
     "base_uri": "https://localhost:8080/",
     "height": 424
    },
    "executionInfo": {
     "elapsed": 60,
     "status": "ok",
     "timestamp": 1684472867452,
     "user": {
      "displayName": "Kaio Figueira",
      "userId": "12273812170235882328"
     },
     "user_tz": 180
    },
    "id": "wxsnOLGMIiJd",
    "outputId": "c8950ab0-aa9e-4644-e3bd-834ab25ed149"
   },
   "outputs": [
    {
     "data": {
      "text/html": [
       "\n",
       "  <div id=\"df-f9d15181-349f-442f-9184-35c44424eb12\">\n",
       "    <div class=\"colab-df-container\">\n",
       "      <div>\n",
       "<style scoped>\n",
       "    .dataframe tbody tr th:only-of-type {\n",
       "        vertical-align: middle;\n",
       "    }\n",
       "\n",
       "    .dataframe tbody tr th {\n",
       "        vertical-align: top;\n",
       "    }\n",
       "\n",
       "    .dataframe thead th {\n",
       "        text-align: right;\n",
       "    }\n",
       "</style>\n",
       "<table border=\"1\" class=\"dataframe\">\n",
       "  <thead>\n",
       "    <tr style=\"text-align: right;\">\n",
       "      <th></th>\n",
       "      <th>title</th>\n",
       "      <th>text</th>\n",
       "      <th>label</th>\n",
       "      <th>token</th>\n",
       "      <th>n_words</th>\n",
       "    </tr>\n",
       "  </thead>\n",
       "  <tbody>\n",
       "    <tr>\n",
       "      <th>8476</th>\n",
       "      <td>You Can Smell Hillary’s Fear</td>\n",
       "      <td>Daniel Greenfield, a Shillman Journalism Fello...</td>\n",
       "      <td>FAKE</td>\n",
       "      <td>[daniel, greenfield, shillman, journalism, fel...</td>\n",
       "      <td>665</td>\n",
       "    </tr>\n",
       "    <tr>\n",
       "      <th>10294</th>\n",
       "      <td>Watch The Exact Moment Paul Ryan Committed Pol...</td>\n",
       "      <td>Google Pinterest Digg Linkedin Reddit Stumbleu...</td>\n",
       "      <td>FAKE</td>\n",
       "      <td>[google, pinterest, digg, linkedin, reddit, st...</td>\n",
       "      <td>235</td>\n",
       "    </tr>\n",
       "    <tr>\n",
       "      <th>3608</th>\n",
       "      <td>Kerry to go to Paris in gesture of sympathy</td>\n",
       "      <td>U.S. Secretary of State John F. Kerry said Mon...</td>\n",
       "      <td>REAL</td>\n",
       "      <td>[secretary, state, john, kerry, said, monday, ...</td>\n",
       "      <td>236</td>\n",
       "    </tr>\n",
       "    <tr>\n",
       "      <th>10142</th>\n",
       "      <td>Bernie supporters on Twitter erupt in anger ag...</td>\n",
       "      <td>— Kaydee King (@KaydeeKing) November 9, 2016 T...</td>\n",
       "      <td>FAKE</td>\n",
       "      <td>[kaydee, king, november, lesson, tonight, dem,...</td>\n",
       "      <td>234</td>\n",
       "    </tr>\n",
       "    <tr>\n",
       "      <th>875</th>\n",
       "      <td>The Battle of New York: Why This Primary Matters</td>\n",
       "      <td>It's primary day in New York and front-runners...</td>\n",
       "      <td>REAL</td>\n",
       "      <td>[primary, day, new, york, front, runners, hill...</td>\n",
       "      <td>176</td>\n",
       "    </tr>\n",
       "    <tr>\n",
       "      <th>...</th>\n",
       "      <td>...</td>\n",
       "      <td>...</td>\n",
       "      <td>...</td>\n",
       "      <td>...</td>\n",
       "      <td>...</td>\n",
       "    </tr>\n",
       "    <tr>\n",
       "      <th>4490</th>\n",
       "      <td>State Department says it can't find emails fro...</td>\n",
       "      <td>The State Department told the Republican Natio...</td>\n",
       "      <td>REAL</td>\n",
       "      <td>[state, department, told, republican, national...</td>\n",
       "      <td>379</td>\n",
       "    </tr>\n",
       "    <tr>\n",
       "      <th>8062</th>\n",
       "      <td>The ‘P’ in PBS Should Stand for ‘Plutocratic’ ...</td>\n",
       "      <td>The ‘P’ in PBS Should Stand for ‘Plutocratic’ ...</td>\n",
       "      <td>FAKE</td>\n",
       "      <td>[pbs, stand, plutocratic, pentagon, posted, oc...</td>\n",
       "      <td>1281</td>\n",
       "    </tr>\n",
       "    <tr>\n",
       "      <th>8622</th>\n",
       "      <td>Anti-Trump Protesters Are Tools of the Oligarc...</td>\n",
       "      <td>Anti-Trump Protesters Are Tools of the Oligar...</td>\n",
       "      <td>FAKE</td>\n",
       "      <td>[anti, trump, protesters, tools, oligarchy, re...</td>\n",
       "      <td>1040</td>\n",
       "    </tr>\n",
       "    <tr>\n",
       "      <th>4021</th>\n",
       "      <td>In Ethiopia, Obama seeks progress on peace, se...</td>\n",
       "      <td>ADDIS ABABA, Ethiopia —President Obama convene...</td>\n",
       "      <td>REAL</td>\n",
       "      <td>[addis, ababa, ethiopia, president, obama, con...</td>\n",
       "      <td>636</td>\n",
       "    </tr>\n",
       "    <tr>\n",
       "      <th>4330</th>\n",
       "      <td>Jeb Bush Is Suddenly Attacking Trump. Here's W...</td>\n",
       "      <td>Jeb Bush Is Suddenly Attacking Trump. Here's W...</td>\n",
       "      <td>REAL</td>\n",
       "      <td>[jeb, bush, suddenly, attacking, trump, matter...</td>\n",
       "      <td>451</td>\n",
       "    </tr>\n",
       "  </tbody>\n",
       "</table>\n",
       "<p>6335 rows × 5 columns</p>\n",
       "</div>\n",
       "      <button class=\"colab-df-convert\" onclick=\"convertToInteractive('df-f9d15181-349f-442f-9184-35c44424eb12')\"\n",
       "              title=\"Convert this dataframe to an interactive table.\"\n",
       "              style=\"display:none;\">\n",
       "        \n",
       "  <svg xmlns=\"http://www.w3.org/2000/svg\" height=\"24px\"viewBox=\"0 0 24 24\"\n",
       "       width=\"24px\">\n",
       "    <path d=\"M0 0h24v24H0V0z\" fill=\"none\"/>\n",
       "    <path d=\"M18.56 5.44l.94 2.06.94-2.06 2.06-.94-2.06-.94-.94-2.06-.94 2.06-2.06.94zm-11 1L8.5 8.5l.94-2.06 2.06-.94-2.06-.94L8.5 2.5l-.94 2.06-2.06.94zm10 10l.94 2.06.94-2.06 2.06-.94-2.06-.94-.94-2.06-.94 2.06-2.06.94z\"/><path d=\"M17.41 7.96l-1.37-1.37c-.4-.4-.92-.59-1.43-.59-.52 0-1.04.2-1.43.59L10.3 9.45l-7.72 7.72c-.78.78-.78 2.05 0 2.83L4 21.41c.39.39.9.59 1.41.59.51 0 1.02-.2 1.41-.59l7.78-7.78 2.81-2.81c.8-.78.8-2.07 0-2.86zM5.41 20L4 18.59l7.72-7.72 1.47 1.35L5.41 20z\"/>\n",
       "  </svg>\n",
       "      </button>\n",
       "      \n",
       "  <style>\n",
       "    .colab-df-container {\n",
       "      display:flex;\n",
       "      flex-wrap:wrap;\n",
       "      gap: 12px;\n",
       "    }\n",
       "\n",
       "    .colab-df-convert {\n",
       "      background-color: #E8F0FE;\n",
       "      border: none;\n",
       "      border-radius: 50%;\n",
       "      cursor: pointer;\n",
       "      display: none;\n",
       "      fill: #1967D2;\n",
       "      height: 32px;\n",
       "      padding: 0 0 0 0;\n",
       "      width: 32px;\n",
       "    }\n",
       "\n",
       "    .colab-df-convert:hover {\n",
       "      background-color: #E2EBFA;\n",
       "      box-shadow: 0px 1px 2px rgba(60, 64, 67, 0.3), 0px 1px 3px 1px rgba(60, 64, 67, 0.15);\n",
       "      fill: #174EA6;\n",
       "    }\n",
       "\n",
       "    [theme=dark] .colab-df-convert {\n",
       "      background-color: #3B4455;\n",
       "      fill: #D2E3FC;\n",
       "    }\n",
       "\n",
       "    [theme=dark] .colab-df-convert:hover {\n",
       "      background-color: #434B5C;\n",
       "      box-shadow: 0px 1px 3px 1px rgba(0, 0, 0, 0.15);\n",
       "      filter: drop-shadow(0px 1px 2px rgba(0, 0, 0, 0.3));\n",
       "      fill: #FFFFFF;\n",
       "    }\n",
       "  </style>\n",
       "\n",
       "      <script>\n",
       "        const buttonEl =\n",
       "          document.querySelector('#df-f9d15181-349f-442f-9184-35c44424eb12 button.colab-df-convert');\n",
       "        buttonEl.style.display =\n",
       "          google.colab.kernel.accessAllowed ? 'block' : 'none';\n",
       "\n",
       "        async function convertToInteractive(key) {\n",
       "          const element = document.querySelector('#df-f9d15181-349f-442f-9184-35c44424eb12');\n",
       "          const dataTable =\n",
       "            await google.colab.kernel.invokeFunction('convertToInteractive',\n",
       "                                                     [key], {});\n",
       "          if (!dataTable) return;\n",
       "\n",
       "          const docLinkHtml = 'Like what you see? Visit the ' +\n",
       "            '<a target=\"_blank\" href=https://colab.research.google.com/notebooks/data_table.ipynb>data table notebook</a>'\n",
       "            + ' to learn more about interactive tables.';\n",
       "          element.innerHTML = '';\n",
       "          dataTable['output_type'] = 'display_data';\n",
       "          await google.colab.output.renderOutput(dataTable, element);\n",
       "          const docLink = document.createElement('div');\n",
       "          docLink.innerHTML = docLinkHtml;\n",
       "          element.appendChild(docLink);\n",
       "        }\n",
       "      </script>\n",
       "    </div>\n",
       "  </div>\n",
       "  "
      ],
      "text/plain": [
       "                                                   title  \\\n",
       "8476                        You Can Smell Hillary’s Fear   \n",
       "10294  Watch The Exact Moment Paul Ryan Committed Pol...   \n",
       "3608         Kerry to go to Paris in gesture of sympathy   \n",
       "10142  Bernie supporters on Twitter erupt in anger ag...   \n",
       "875     The Battle of New York: Why This Primary Matters   \n",
       "...                                                  ...   \n",
       "4490   State Department says it can't find emails fro...   \n",
       "8062   The ‘P’ in PBS Should Stand for ‘Plutocratic’ ...   \n",
       "8622   Anti-Trump Protesters Are Tools of the Oligarc...   \n",
       "4021   In Ethiopia, Obama seeks progress on peace, se...   \n",
       "4330   Jeb Bush Is Suddenly Attacking Trump. Here's W...   \n",
       "\n",
       "                                                    text label  \\\n",
       "8476   Daniel Greenfield, a Shillman Journalism Fello...  FAKE   \n",
       "10294  Google Pinterest Digg Linkedin Reddit Stumbleu...  FAKE   \n",
       "3608   U.S. Secretary of State John F. Kerry said Mon...  REAL   \n",
       "10142  — Kaydee King (@KaydeeKing) November 9, 2016 T...  FAKE   \n",
       "875    It's primary day in New York and front-runners...  REAL   \n",
       "...                                                  ...   ...   \n",
       "4490   The State Department told the Republican Natio...  REAL   \n",
       "8062   The ‘P’ in PBS Should Stand for ‘Plutocratic’ ...  FAKE   \n",
       "8622    Anti-Trump Protesters Are Tools of the Oligar...  FAKE   \n",
       "4021   ADDIS ABABA, Ethiopia —President Obama convene...  REAL   \n",
       "4330   Jeb Bush Is Suddenly Attacking Trump. Here's W...  REAL   \n",
       "\n",
       "                                                   token  n_words  \n",
       "8476   [daniel, greenfield, shillman, journalism, fel...      665  \n",
       "10294  [google, pinterest, digg, linkedin, reddit, st...      235  \n",
       "3608   [secretary, state, john, kerry, said, monday, ...      236  \n",
       "10142  [kaydee, king, november, lesson, tonight, dem,...      234  \n",
       "875    [primary, day, new, york, front, runners, hill...      176  \n",
       "...                                                  ...      ...  \n",
       "4490   [state, department, told, republican, national...      379  \n",
       "8062   [pbs, stand, plutocratic, pentagon, posted, oc...     1281  \n",
       "8622   [anti, trump, protesters, tools, oligarchy, re...     1040  \n",
       "4021   [addis, ababa, ethiopia, president, obama, con...      636  \n",
       "4330   [jeb, bush, suddenly, attacking, trump, matter...      451  \n",
       "\n",
       "[6335 rows x 5 columns]"
      ]
     },
     "execution_count": 11,
     "metadata": {},
     "output_type": "execute_result"
    }
   ],
   "source": [
    "df_fakenews['n_words'] = df_fakenews.token.apply(lambda x: len(x))\n",
    "df_fakenews"
   ]
  },
  {
   "cell_type": "markdown",
   "metadata": {
    "id": "e-LJO3ggIbhX"
   },
   "source": [
    "## Estatisticas relacionadas ao número de palavras tokenizadas por texto"
   ]
  },
  {
   "cell_type": "code",
   "execution_count": null,
   "metadata": {
    "colab": {
     "base_uri": "https://localhost:8080/"
    },
    "executionInfo": {
     "elapsed": 58,
     "status": "ok",
     "timestamp": 1684472867453,
     "user": {
      "displayName": "Kaio Figueira",
      "userId": "12273812170235882328"
     },
     "user_tz": 180
    },
    "id": "kkbWTSDxXcZj",
    "outputId": "74c52005-cb52-481a-b178-8528b81f0f4f"
   },
   "outputs": [
    {
     "data": {
      "text/plain": [
       "count    6335.000000\n",
       "mean      425.991634\n",
       "std       452.807732\n",
       "min         0.000000\n",
       "25%       160.000000\n",
       "50%       334.000000\n",
       "75%       562.000000\n",
       "max      9976.000000\n",
       "Name: n_words, dtype: float64"
      ]
     },
     "execution_count": 12,
     "metadata": {},
     "output_type": "execute_result"
    }
   ],
   "source": [
    "df_fakenews.n_words.describe()"
   ]
  },
  {
   "cell_type": "code",
   "execution_count": null,
   "metadata": {
    "colab": {
     "base_uri": "https://localhost:8080/",
     "height": 143
    },
    "executionInfo": {
     "elapsed": 57,
     "status": "ok",
     "timestamp": 1684472867455,
     "user": {
      "displayName": "Kaio Figueira",
      "userId": "12273812170235882328"
     },
     "user_tz": 180
    },
    "id": "3r4_NXQlXvFb",
    "outputId": "91e86dab-daac-48b8-ba61-b41abe17e870"
   },
   "outputs": [
    {
     "data": {
      "text/html": [
       "\n",
       "  <div id=\"df-50655c5c-076d-4c4e-a852-6b57304a08a7\">\n",
       "    <div class=\"colab-df-container\">\n",
       "      <div>\n",
       "<style scoped>\n",
       "    .dataframe tbody tr th:only-of-type {\n",
       "        vertical-align: middle;\n",
       "    }\n",
       "\n",
       "    .dataframe tbody tr th {\n",
       "        vertical-align: top;\n",
       "    }\n",
       "\n",
       "    .dataframe thead th {\n",
       "        text-align: right;\n",
       "    }\n",
       "</style>\n",
       "<table border=\"1\" class=\"dataframe\">\n",
       "  <thead>\n",
       "    <tr style=\"text-align: right;\">\n",
       "      <th></th>\n",
       "      <th>count</th>\n",
       "      <th>mean</th>\n",
       "      <th>std</th>\n",
       "      <th>min</th>\n",
       "      <th>25%</th>\n",
       "      <th>50%</th>\n",
       "      <th>75%</th>\n",
       "      <th>max</th>\n",
       "    </tr>\n",
       "    <tr>\n",
       "      <th>label</th>\n",
       "      <th></th>\n",
       "      <th></th>\n",
       "      <th></th>\n",
       "      <th></th>\n",
       "      <th></th>\n",
       "      <th></th>\n",
       "      <th></th>\n",
       "      <th></th>\n",
       "    </tr>\n",
       "  </thead>\n",
       "  <tbody>\n",
       "    <tr>\n",
       "      <th>FAKE</th>\n",
       "      <td>3164.0</td>\n",
       "      <td>370.027497</td>\n",
       "      <td>498.149071</td>\n",
       "      <td>0.0</td>\n",
       "      <td>118.75</td>\n",
       "      <td>230.0</td>\n",
       "      <td>457.0</td>\n",
       "      <td>9976.0</td>\n",
       "    </tr>\n",
       "    <tr>\n",
       "      <th>REAL</th>\n",
       "      <td>3171.0</td>\n",
       "      <td>481.832230</td>\n",
       "      <td>394.755454</td>\n",
       "      <td>3.0</td>\n",
       "      <td>249.00</td>\n",
       "      <td>421.0</td>\n",
       "      <td>619.0</td>\n",
       "      <td>3973.0</td>\n",
       "    </tr>\n",
       "  </tbody>\n",
       "</table>\n",
       "</div>\n",
       "      <button class=\"colab-df-convert\" onclick=\"convertToInteractive('df-50655c5c-076d-4c4e-a852-6b57304a08a7')\"\n",
       "              title=\"Convert this dataframe to an interactive table.\"\n",
       "              style=\"display:none;\">\n",
       "        \n",
       "  <svg xmlns=\"http://www.w3.org/2000/svg\" height=\"24px\"viewBox=\"0 0 24 24\"\n",
       "       width=\"24px\">\n",
       "    <path d=\"M0 0h24v24H0V0z\" fill=\"none\"/>\n",
       "    <path d=\"M18.56 5.44l.94 2.06.94-2.06 2.06-.94-2.06-.94-.94-2.06-.94 2.06-2.06.94zm-11 1L8.5 8.5l.94-2.06 2.06-.94-2.06-.94L8.5 2.5l-.94 2.06-2.06.94zm10 10l.94 2.06.94-2.06 2.06-.94-2.06-.94-.94-2.06-.94 2.06-2.06.94z\"/><path d=\"M17.41 7.96l-1.37-1.37c-.4-.4-.92-.59-1.43-.59-.52 0-1.04.2-1.43.59L10.3 9.45l-7.72 7.72c-.78.78-.78 2.05 0 2.83L4 21.41c.39.39.9.59 1.41.59.51 0 1.02-.2 1.41-.59l7.78-7.78 2.81-2.81c.8-.78.8-2.07 0-2.86zM5.41 20L4 18.59l7.72-7.72 1.47 1.35L5.41 20z\"/>\n",
       "  </svg>\n",
       "      </button>\n",
       "      \n",
       "  <style>\n",
       "    .colab-df-container {\n",
       "      display:flex;\n",
       "      flex-wrap:wrap;\n",
       "      gap: 12px;\n",
       "    }\n",
       "\n",
       "    .colab-df-convert {\n",
       "      background-color: #E8F0FE;\n",
       "      border: none;\n",
       "      border-radius: 50%;\n",
       "      cursor: pointer;\n",
       "      display: none;\n",
       "      fill: #1967D2;\n",
       "      height: 32px;\n",
       "      padding: 0 0 0 0;\n",
       "      width: 32px;\n",
       "    }\n",
       "\n",
       "    .colab-df-convert:hover {\n",
       "      background-color: #E2EBFA;\n",
       "      box-shadow: 0px 1px 2px rgba(60, 64, 67, 0.3), 0px 1px 3px 1px rgba(60, 64, 67, 0.15);\n",
       "      fill: #174EA6;\n",
       "    }\n",
       "\n",
       "    [theme=dark] .colab-df-convert {\n",
       "      background-color: #3B4455;\n",
       "      fill: #D2E3FC;\n",
       "    }\n",
       "\n",
       "    [theme=dark] .colab-df-convert:hover {\n",
       "      background-color: #434B5C;\n",
       "      box-shadow: 0px 1px 3px 1px rgba(0, 0, 0, 0.15);\n",
       "      filter: drop-shadow(0px 1px 2px rgba(0, 0, 0, 0.3));\n",
       "      fill: #FFFFFF;\n",
       "    }\n",
       "  </style>\n",
       "\n",
       "      <script>\n",
       "        const buttonEl =\n",
       "          document.querySelector('#df-50655c5c-076d-4c4e-a852-6b57304a08a7 button.colab-df-convert');\n",
       "        buttonEl.style.display =\n",
       "          google.colab.kernel.accessAllowed ? 'block' : 'none';\n",
       "\n",
       "        async function convertToInteractive(key) {\n",
       "          const element = document.querySelector('#df-50655c5c-076d-4c4e-a852-6b57304a08a7');\n",
       "          const dataTable =\n",
       "            await google.colab.kernel.invokeFunction('convertToInteractive',\n",
       "                                                     [key], {});\n",
       "          if (!dataTable) return;\n",
       "\n",
       "          const docLinkHtml = 'Like what you see? Visit the ' +\n",
       "            '<a target=\"_blank\" href=https://colab.research.google.com/notebooks/data_table.ipynb>data table notebook</a>'\n",
       "            + ' to learn more about interactive tables.';\n",
       "          element.innerHTML = '';\n",
       "          dataTable['output_type'] = 'display_data';\n",
       "          await google.colab.output.renderOutput(dataTable, element);\n",
       "          const docLink = document.createElement('div');\n",
       "          docLink.innerHTML = docLinkHtml;\n",
       "          element.appendChild(docLink);\n",
       "        }\n",
       "      </script>\n",
       "    </div>\n",
       "  </div>\n",
       "  "
      ],
      "text/plain": [
       "        count        mean         std  min     25%    50%    75%     max\n",
       "label                                                                   \n",
       "FAKE   3164.0  370.027497  498.149071  0.0  118.75  230.0  457.0  9976.0\n",
       "REAL   3171.0  481.832230  394.755454  3.0  249.00  421.0  619.0  3973.0"
      ]
     },
     "execution_count": 13,
     "metadata": {},
     "output_type": "execute_result"
    }
   ],
   "source": [
    "df_fakenews.groupby('label').n_words.describe()"
   ]
  },
  {
   "cell_type": "markdown",
   "metadata": {
    "id": "6sFX3BRY5bDl"
   },
   "source": [
    "Notícias verdadeiras tendem a ter mais palavras do que notícias falsas"
   ]
  },
  {
   "cell_type": "code",
   "execution_count": null,
   "metadata": {
    "colab": {
     "base_uri": "https://localhost:8080/",
     "height": 424
    },
    "executionInfo": {
     "elapsed": 55,
     "status": "ok",
     "timestamp": 1684472867456,
     "user": {
      "displayName": "Kaio Figueira",
      "userId": "12273812170235882328"
     },
     "user_tz": 180
    },
    "id": "Nd2VgyGP6kom",
    "outputId": "fbb2ca17-3d3c-4a9a-c63d-f25f91a911b4"
   },
   "outputs": [
    {
     "data": {
      "text/html": [
       "\n",
       "  <div id=\"df-50b15d06-4093-4f88-99c0-501d82785334\">\n",
       "    <div class=\"colab-df-container\">\n",
       "      <div>\n",
       "<style scoped>\n",
       "    .dataframe tbody tr th:only-of-type {\n",
       "        vertical-align: middle;\n",
       "    }\n",
       "\n",
       "    .dataframe tbody tr th {\n",
       "        vertical-align: top;\n",
       "    }\n",
       "\n",
       "    .dataframe thead th {\n",
       "        text-align: right;\n",
       "    }\n",
       "</style>\n",
       "<table border=\"1\" class=\"dataframe\">\n",
       "  <thead>\n",
       "    <tr style=\"text-align: right;\">\n",
       "      <th></th>\n",
       "      <th>title</th>\n",
       "      <th>text</th>\n",
       "      <th>label</th>\n",
       "      <th>token</th>\n",
       "      <th>n_words</th>\n",
       "    </tr>\n",
       "  </thead>\n",
       "  <tbody>\n",
       "    <tr>\n",
       "      <th>8476</th>\n",
       "      <td>You Can Smell Hillary’s Fear</td>\n",
       "      <td>Daniel Greenfield, a Shillman Journalism Fello...</td>\n",
       "      <td>0</td>\n",
       "      <td>[daniel, greenfield, shillman, journalism, fel...</td>\n",
       "      <td>665</td>\n",
       "    </tr>\n",
       "    <tr>\n",
       "      <th>10294</th>\n",
       "      <td>Watch The Exact Moment Paul Ryan Committed Pol...</td>\n",
       "      <td>Google Pinterest Digg Linkedin Reddit Stumbleu...</td>\n",
       "      <td>0</td>\n",
       "      <td>[google, pinterest, digg, linkedin, reddit, st...</td>\n",
       "      <td>235</td>\n",
       "    </tr>\n",
       "    <tr>\n",
       "      <th>3608</th>\n",
       "      <td>Kerry to go to Paris in gesture of sympathy</td>\n",
       "      <td>U.S. Secretary of State John F. Kerry said Mon...</td>\n",
       "      <td>1</td>\n",
       "      <td>[secretary, state, john, kerry, said, monday, ...</td>\n",
       "      <td>236</td>\n",
       "    </tr>\n",
       "    <tr>\n",
       "      <th>10142</th>\n",
       "      <td>Bernie supporters on Twitter erupt in anger ag...</td>\n",
       "      <td>— Kaydee King (@KaydeeKing) November 9, 2016 T...</td>\n",
       "      <td>0</td>\n",
       "      <td>[kaydee, king, november, lesson, tonight, dem,...</td>\n",
       "      <td>234</td>\n",
       "    </tr>\n",
       "    <tr>\n",
       "      <th>875</th>\n",
       "      <td>The Battle of New York: Why This Primary Matters</td>\n",
       "      <td>It's primary day in New York and front-runners...</td>\n",
       "      <td>1</td>\n",
       "      <td>[primary, day, new, york, front, runners, hill...</td>\n",
       "      <td>176</td>\n",
       "    </tr>\n",
       "    <tr>\n",
       "      <th>...</th>\n",
       "      <td>...</td>\n",
       "      <td>...</td>\n",
       "      <td>...</td>\n",
       "      <td>...</td>\n",
       "      <td>...</td>\n",
       "    </tr>\n",
       "    <tr>\n",
       "      <th>4490</th>\n",
       "      <td>State Department says it can't find emails fro...</td>\n",
       "      <td>The State Department told the Republican Natio...</td>\n",
       "      <td>1</td>\n",
       "      <td>[state, department, told, republican, national...</td>\n",
       "      <td>379</td>\n",
       "    </tr>\n",
       "    <tr>\n",
       "      <th>8062</th>\n",
       "      <td>The ‘P’ in PBS Should Stand for ‘Plutocratic’ ...</td>\n",
       "      <td>The ‘P’ in PBS Should Stand for ‘Plutocratic’ ...</td>\n",
       "      <td>0</td>\n",
       "      <td>[pbs, stand, plutocratic, pentagon, posted, oc...</td>\n",
       "      <td>1281</td>\n",
       "    </tr>\n",
       "    <tr>\n",
       "      <th>8622</th>\n",
       "      <td>Anti-Trump Protesters Are Tools of the Oligarc...</td>\n",
       "      <td>Anti-Trump Protesters Are Tools of the Oligar...</td>\n",
       "      <td>0</td>\n",
       "      <td>[anti, trump, protesters, tools, oligarchy, re...</td>\n",
       "      <td>1040</td>\n",
       "    </tr>\n",
       "    <tr>\n",
       "      <th>4021</th>\n",
       "      <td>In Ethiopia, Obama seeks progress on peace, se...</td>\n",
       "      <td>ADDIS ABABA, Ethiopia —President Obama convene...</td>\n",
       "      <td>1</td>\n",
       "      <td>[addis, ababa, ethiopia, president, obama, con...</td>\n",
       "      <td>636</td>\n",
       "    </tr>\n",
       "    <tr>\n",
       "      <th>4330</th>\n",
       "      <td>Jeb Bush Is Suddenly Attacking Trump. Here's W...</td>\n",
       "      <td>Jeb Bush Is Suddenly Attacking Trump. Here's W...</td>\n",
       "      <td>1</td>\n",
       "      <td>[jeb, bush, suddenly, attacking, trump, matter...</td>\n",
       "      <td>451</td>\n",
       "    </tr>\n",
       "  </tbody>\n",
       "</table>\n",
       "<p>6335 rows × 5 columns</p>\n",
       "</div>\n",
       "      <button class=\"colab-df-convert\" onclick=\"convertToInteractive('df-50b15d06-4093-4f88-99c0-501d82785334')\"\n",
       "              title=\"Convert this dataframe to an interactive table.\"\n",
       "              style=\"display:none;\">\n",
       "        \n",
       "  <svg xmlns=\"http://www.w3.org/2000/svg\" height=\"24px\"viewBox=\"0 0 24 24\"\n",
       "       width=\"24px\">\n",
       "    <path d=\"M0 0h24v24H0V0z\" fill=\"none\"/>\n",
       "    <path d=\"M18.56 5.44l.94 2.06.94-2.06 2.06-.94-2.06-.94-.94-2.06-.94 2.06-2.06.94zm-11 1L8.5 8.5l.94-2.06 2.06-.94-2.06-.94L8.5 2.5l-.94 2.06-2.06.94zm10 10l.94 2.06.94-2.06 2.06-.94-2.06-.94-.94-2.06-.94 2.06-2.06.94z\"/><path d=\"M17.41 7.96l-1.37-1.37c-.4-.4-.92-.59-1.43-.59-.52 0-1.04.2-1.43.59L10.3 9.45l-7.72 7.72c-.78.78-.78 2.05 0 2.83L4 21.41c.39.39.9.59 1.41.59.51 0 1.02-.2 1.41-.59l7.78-7.78 2.81-2.81c.8-.78.8-2.07 0-2.86zM5.41 20L4 18.59l7.72-7.72 1.47 1.35L5.41 20z\"/>\n",
       "  </svg>\n",
       "      </button>\n",
       "      \n",
       "  <style>\n",
       "    .colab-df-container {\n",
       "      display:flex;\n",
       "      flex-wrap:wrap;\n",
       "      gap: 12px;\n",
       "    }\n",
       "\n",
       "    .colab-df-convert {\n",
       "      background-color: #E8F0FE;\n",
       "      border: none;\n",
       "      border-radius: 50%;\n",
       "      cursor: pointer;\n",
       "      display: none;\n",
       "      fill: #1967D2;\n",
       "      height: 32px;\n",
       "      padding: 0 0 0 0;\n",
       "      width: 32px;\n",
       "    }\n",
       "\n",
       "    .colab-df-convert:hover {\n",
       "      background-color: #E2EBFA;\n",
       "      box-shadow: 0px 1px 2px rgba(60, 64, 67, 0.3), 0px 1px 3px 1px rgba(60, 64, 67, 0.15);\n",
       "      fill: #174EA6;\n",
       "    }\n",
       "\n",
       "    [theme=dark] .colab-df-convert {\n",
       "      background-color: #3B4455;\n",
       "      fill: #D2E3FC;\n",
       "    }\n",
       "\n",
       "    [theme=dark] .colab-df-convert:hover {\n",
       "      background-color: #434B5C;\n",
       "      box-shadow: 0px 1px 3px 1px rgba(0, 0, 0, 0.15);\n",
       "      filter: drop-shadow(0px 1px 2px rgba(0, 0, 0, 0.3));\n",
       "      fill: #FFFFFF;\n",
       "    }\n",
       "  </style>\n",
       "\n",
       "      <script>\n",
       "        const buttonEl =\n",
       "          document.querySelector('#df-50b15d06-4093-4f88-99c0-501d82785334 button.colab-df-convert');\n",
       "        buttonEl.style.display =\n",
       "          google.colab.kernel.accessAllowed ? 'block' : 'none';\n",
       "\n",
       "        async function convertToInteractive(key) {\n",
       "          const element = document.querySelector('#df-50b15d06-4093-4f88-99c0-501d82785334');\n",
       "          const dataTable =\n",
       "            await google.colab.kernel.invokeFunction('convertToInteractive',\n",
       "                                                     [key], {});\n",
       "          if (!dataTable) return;\n",
       "\n",
       "          const docLinkHtml = 'Like what you see? Visit the ' +\n",
       "            '<a target=\"_blank\" href=https://colab.research.google.com/notebooks/data_table.ipynb>data table notebook</a>'\n",
       "            + ' to learn more about interactive tables.';\n",
       "          element.innerHTML = '';\n",
       "          dataTable['output_type'] = 'display_data';\n",
       "          await google.colab.output.renderOutput(dataTable, element);\n",
       "          const docLink = document.createElement('div');\n",
       "          docLink.innerHTML = docLinkHtml;\n",
       "          element.appendChild(docLink);\n",
       "        }\n",
       "      </script>\n",
       "    </div>\n",
       "  </div>\n",
       "  "
      ],
      "text/plain": [
       "                                                   title  \\\n",
       "8476                        You Can Smell Hillary’s Fear   \n",
       "10294  Watch The Exact Moment Paul Ryan Committed Pol...   \n",
       "3608         Kerry to go to Paris in gesture of sympathy   \n",
       "10142  Bernie supporters on Twitter erupt in anger ag...   \n",
       "875     The Battle of New York: Why This Primary Matters   \n",
       "...                                                  ...   \n",
       "4490   State Department says it can't find emails fro...   \n",
       "8062   The ‘P’ in PBS Should Stand for ‘Plutocratic’ ...   \n",
       "8622   Anti-Trump Protesters Are Tools of the Oligarc...   \n",
       "4021   In Ethiopia, Obama seeks progress on peace, se...   \n",
       "4330   Jeb Bush Is Suddenly Attacking Trump. Here's W...   \n",
       "\n",
       "                                                    text  label  \\\n",
       "8476   Daniel Greenfield, a Shillman Journalism Fello...      0   \n",
       "10294  Google Pinterest Digg Linkedin Reddit Stumbleu...      0   \n",
       "3608   U.S. Secretary of State John F. Kerry said Mon...      1   \n",
       "10142  — Kaydee King (@KaydeeKing) November 9, 2016 T...      0   \n",
       "875    It's primary day in New York and front-runners...      1   \n",
       "...                                                  ...    ...   \n",
       "4490   The State Department told the Republican Natio...      1   \n",
       "8062   The ‘P’ in PBS Should Stand for ‘Plutocratic’ ...      0   \n",
       "8622    Anti-Trump Protesters Are Tools of the Oligar...      0   \n",
       "4021   ADDIS ABABA, Ethiopia —President Obama convene...      1   \n",
       "4330   Jeb Bush Is Suddenly Attacking Trump. Here's W...      1   \n",
       "\n",
       "                                                   token  n_words  \n",
       "8476   [daniel, greenfield, shillman, journalism, fel...      665  \n",
       "10294  [google, pinterest, digg, linkedin, reddit, st...      235  \n",
       "3608   [secretary, state, john, kerry, said, monday, ...      236  \n",
       "10142  [kaydee, king, november, lesson, tonight, dem,...      234  \n",
       "875    [primary, day, new, york, front, runners, hill...      176  \n",
       "...                                                  ...      ...  \n",
       "4490   [state, department, told, republican, national...      379  \n",
       "8062   [pbs, stand, plutocratic, pentagon, posted, oc...     1281  \n",
       "8622   [anti, trump, protesters, tools, oligarchy, re...     1040  \n",
       "4021   [addis, ababa, ethiopia, president, obama, con...      636  \n",
       "4330   [jeb, bush, suddenly, attacking, trump, matter...      451  \n",
       "\n",
       "[6335 rows x 5 columns]"
      ]
     },
     "execution_count": 14,
     "metadata": {},
     "output_type": "execute_result"
    }
   ],
   "source": [
    "#Convertendo label para int. Real = 1, Fake = 0\n",
    "df_fakenews['label'] = df_fakenews.label.apply(lambda x: int(x==\"REAL\"))\n",
    "df_fakenews"
   ]
  },
  {
   "cell_type": "code",
   "execution_count": null,
   "metadata": {
    "colab": {
     "base_uri": "https://localhost:8080/",
     "height": 217
    },
    "executionInfo": {
     "elapsed": 20604,
     "status": "ok",
     "timestamp": 1684472888007,
     "user": {
      "displayName": "Kaio Figueira",
      "userId": "12273812170235882328"
     },
     "user_tz": 180
    },
    "id": "PUdVl51yH-2T",
    "outputId": "d6e6db7e-1a97-422b-a71b-ce111485114f"
   },
   "outputs": [
    {
     "data": {
      "image/png": "[encoded data removed]",
      "text/plain": [
       "<PIL.Image.Image image mode=RGB size=400x200 at 0x7FD6E48E17E0>"
      ]
     },
     "execution_count": 15,
     "metadata": {},
     "output_type": "execute_result"
    }
   ],
   "source": [
    "from wordcloud import WordCloud\n",
    "\n",
    "# gera um grande texto com todas as palavras de todos os textos\n",
    "big_text = ','.join(list([' '.join(i) for i in df_fakenews.token.values]))\n",
    "\n",
    "# wordcloud config\n",
    "wordcloud = WordCloud(background_color=\"white\", max_words=1000, contour_width=3, contour_color='steelblue')\n",
    "\n",
    "# gera a wordcloud\n",
    "wordcloud.generate(big_text)\n",
    "wordcloud.to_image()"
   ]
  },
  {
   "cell_type": "markdown",
   "metadata": {
    "id": "LDLtnwojSVbz"
   },
   "source": [
    "Palavras que mais se repetem"
   ]
  },
  {
   "cell_type": "markdown",
   "metadata": {
    "id": "ToE8BJRCcZVx"
   },
   "source": [
    "##Modelos"
   ]
  },
  {
   "cell_type": "markdown",
   "metadata": {
    "id": "3HFjCAJWtvqZ"
   },
   "source": [
    "#### helpers"
   ]
  },
  {
   "cell_type": "code",
   "execution_count": null,
   "metadata": {
    "id": "Dn21GT__tuzO"
   },
   "outputs": [],
   "source": [
    "import keras\n",
    "from matplotlib import pyplot as plt\n",
    "import time\n",
    "\n",
    "def plot_accuracy(history):\n",
    "  plt.plot(history.history['accuracy'])\n",
    "  plt.plot(history.history['val_accuracy'])\n",
    "  plt.title('model accuracy')\n",
    "  plt.ylabel('accuracy')\n",
    "  plt.xlabel('epoch')\n",
    "  plt.legend(['train', 'val'], loc='upper left')\n",
    "  plt.show()\n",
    "\n",
    "def plot_loss(history):\n",
    "  plt.plot(history.history['loss'])\n",
    "  plt.plot(history.history['val_loss'])\n",
    "  plt.title('model loss')\n",
    "  plt.ylabel('loss')\n",
    "  plt.xlabel('epoch')\n",
    "  plt.legend(['train', 'val'], loc='upper left')\n",
    "  plt.show()\n",
    "\n",
    "def plot_graphs(history, metric):\n",
    "  plt.plot(history.history[metric])\n",
    "  plt.plot(history.history['val_'+metric], '')\n",
    "  plt.xlabel(\"Epochs\")\n",
    "  plt.ylabel(metric)\n",
    "  plt.legend([metric, 'val_'+metric])\n",
    "\n",
    "def create_RNN_model(vectorize_layer):\n",
    "  model = keras.Sequential([\n",
    "    vectorize_layer,\n",
    "    keras.layers.Embedding(\n",
    "        input_dim=len(vectorize_layer.get_vocabulary()),\n",
    "        output_dim=64,\n",
    "        mask_zero=True),\n",
    "    keras.layers.Bidirectional(keras.layers.LSTM(64)),\n",
    "    keras.layers.Dense(64, activation='relu'),\n",
    "    keras.layers.Dense(1)\n",
    "  ])\n",
    "  model.compile(loss=keras.losses.BinaryCrossentropy(from_logits=True),\n",
    "              optimizer=keras.optimizers.Adam(1e-4),\n",
    "              metrics=['accuracy'])\n",
    "  return model\n",
    "\n",
    "def create_binary_model():\n",
    "  model = tf.keras.Sequential([\n",
    "    tf.keras.layers.Dense(2)\n",
    "    ])\n",
    "\n",
    "  model.compile(\n",
    "    loss=tf.keras.losses.SparseCategoricalCrossentropy(from_logits=True),\n",
    "    optimizer='adam',\n",
    "    metrics=['accuracy'])\n",
    "  return model\n",
    "\n",
    "def create_int_model(vocab_size, num_labels):\n",
    "  model = tf.keras.Sequential([\n",
    "      tf.keras.layers.Embedding(vocab_size, 64, mask_zero=True),\n",
    "      tf.keras.layers.Conv1D(64, 5, padding=\"valid\", activation=\"relu\", strides=2),\n",
    "      tf.keras.layers.GlobalMaxPooling1D(),\n",
    "      tf.keras.layers.Dense(num_labels)\n",
    "  ])\n",
    "  model.compile(\n",
    "    loss=tf.keras.losses.SparseCategoricalCrossentropy(from_logits=True),\n",
    "    optimizer='adam',\n",
    "    metrics=['accuracy'])\n",
    "  return model\n",
    "\n",
    "def timer(start,end):\n",
    "  hours, rem = divmod(end-start, 3600)\n",
    "  minutes, seconds = divmod(rem, 60)\n",
    "  print()\n",
    "  print(\"Tempo de execução do modelo\")\n",
    "  print(\"{:0>2}:{:0>2}:{:05f}\".format(int(hours),int(minutes),seconds))\n",
    "\n",
    "# funcoes para auxiliar na vetorização\n",
    "def binary_vectorize_text(text, label):\n",
    "  text = tf.expand_dims(text, -1)\n",
    "  return binary_vectorize_layer(text), label\n",
    "\n",
    "# funcoes para auxiliar na vetorização\n",
    "def int_vectorize_text(text, label):\n",
    "  text = tf.expand_dims(text, -1)\n",
    "  return int_vectorize_layer(text), label\n",
    "\n",
    "def configure_dataset(dataset):\n",
    "  return dataset.cache().prefetch(buffer_size=tf.data.AUTOTUNE)"
   ]
  },
  {
   "cell_type": "markdown",
   "metadata": {
    "id": "oESm-XppHRo_"
   },
   "source": [
    "#### RNN Classificador - Tensorflow\n",
    "\n",
    "\n",
    "https://www.tensorflow.org/text/tutorials/text_classification_rnn"
   ]
  },
  {
   "cell_type": "code",
   "execution_count": null,
   "metadata": {
    "colab": {
     "base_uri": "https://localhost:8080/"
    },
    "executionInfo": {
     "elapsed": 21,
     "status": "ok",
     "timestamp": 1684472888008,
     "user": {
      "displayName": "Kaio Figueira",
      "userId": "12273812170235882328"
     },
     "user_tz": 180
    },
    "id": "bZLvxbpg2zHy",
    "outputId": "9c956064-c2bb-4971-b290-b7ab772ea228"
   },
   "outputs": [
    {
     "name": "stdout",
     "output_type": "stream",
     "text": [
      "(4751, 5) (1188, 5) (396, 5)\n"
     ]
    }
   ],
   "source": [
    "df_fakenews['token'] = df_fakenews.token.apply(lambda x: str(x))\n",
    "\n",
    "#split train test val\n",
    "ds_train, ds_test = train_test_split(df_fakenews)\n",
    "\n",
    "# split validation set\n",
    "ds_test, ds_val = train_test_split(ds_test)\n",
    "\n",
    "print(ds_train.shape, ds_test.shape, ds_val.shape)"
   ]
  },
  {
   "cell_type": "code",
   "execution_count": null,
   "metadata": {
    "colab": {
     "base_uri": "https://localhost:8080/"
    },
    "executionInfo": {
     "elapsed": 2905,
     "status": "ok",
     "timestamp": 1684472890894,
     "user": {
      "displayName": "Kaio Figueira",
      "userId": "12273812170235882328"
     },
     "user_tz": 180
    },
    "id": "5GsuCMcb2zo8",
    "outputId": "b7a56a99-43ce-45cf-a027-ca2f892a7acb"
   },
   "outputs": [
    {
     "name": "stdout",
     "output_type": "stream",
     "text": [
      "Notícia:  b\"['james', 'holbrooks', 'day', 'administration', 'president', 'recep', 'tayyip', 'erdo', 'dismissed', 'additional', 'civil', 'employees', 'shut', 'another', 'media']\"\n",
      "Label: 0\n",
      "Notícia:  b\"['obama', 'work', 'cut', 'getting', 'trade', 'votes', 'obama', 'administration', 'finds', 'rare', 'position', 'fighting', 'alongside', 'house', 'republicans', 'week', 'tries', 'overcome', 'friday', 'stinging', 'defeat', 'massive', 'trade', 'package', 'trans', 'pacific', 'partnership', 'defeat', 'came', 'speaker', 'john', 'boehner', 'split', 'president', 'agenda', 'passed', 'senate', 'may', 'two', 'parts', 'one', 'trade', 'promotion', 'authority', 'also', 'known', 'fast', 'track', 'law', 'allows', 'obama', 'negotiate', 'deal', 'congress', 'pass', 'vote', 'debate', 'trade', 'adjustment', 'assistance', 'safety', 'net', 'aimed', 'retraining', 'workers', 'might', 'lose', 'jobs', 'result', 'new', 'trade', 'package', 'simplified', 'version', 'happened', 'democrats', 'really', 'like', 'taa', 'republicans', 'like', 'tpa', 'boehner', 'split', 'separate', 'votes', 'hoping', 'dems', 'republicans', 'would', 'vote', 'respective', 'parts', 'liked', 'obama', 'administration', 'really', 'needs', 'tpa', 'negotiate', 'trade', 'deal', 'torpedo', 'whole', 'deal', 'democrats', 'voted', 'worker', 'assistance', 'package', 'huge', 'numbers', 'nothing', 'wait', 'house', 'voted', 'today', 'give', 'july', 'get', 'votes', 'need', 'get', 'package', 'passed', 'numbers', 'clear', 'obama', 'house', 'gop', 'work', 'cut', 'procuring', 'votes', 'extremely', 'polarized', 'congress', 'unusually', 'haphazard', 'looking', 'mix', 'votes', 'understand', 'exactly', 'voted', 'broken', 'vote', 'four', 'groups', 'democrats', 'republicans', 'liberal', 'democrats', 'including', 'house', 'minority', 'leader', 'nancy', 'pelosi', 'conservative', 'republicans', 'means', 'democrats', 'tended', 'tpp', 'also', 'tended', 'liberal', 'dems', 'like', 'maryland', 'donna', 'edwards', 'minnesota', 'keith', 'ellison', 'problem', 'breaking', 'president', 'obama', 'group', 'house', 'dems', 'tpp', 'willing', 'sink', 'taa', 'policy', 'dems', 'tend', 'like', 'thing', 'makes', 'group', 'notable', 'huge', 'democrats', 'voted', 'parts', 'deal', 'administration', 'badly', 'wants', 'pass', 'question', 'many', 'obama', 'peel', 'away', 'group', 'given', 'rep', 'pelosi', 'house', 'minority', 'leader', 'willing', 'break', 'republicans', 'side', 'meanwhile', 'include', 'many', 'members', 'house', 'freedom', 'caucus', 'group', 'lawmakers', 'trying', 'swing', 'leadership', 'agenda', 'even', 'right', 'like', 'idaho', 'raul', 'labrador', 'michigan', 'justin', 'amash', 'republicans', 'voted', 'trade', 'agenda', 'given', 'mix', 'reasons', 'concerned', 'jobs', 'think', 'deal', 'secretive', 'simply', 'want', 'give', 'obama', 'power', 'example', 'yes', 'democrats', 'republicans', 'pro', 'tpp', 'republicans', 'obama', 'allies', 'members', 'centrist', 'contested', 'districts', 'means', 'group', 'includes', 'republican', 'rep', 'paul', 'ryan', 'one', 'loudest', 'supporters', 'tpp', 'last', 'months', 'among', 'democrats', 'debbie', 'wasserman', 'schultz', 'chair', 'democratic', 'national', 'committee', 'falling', 'line', 'behind', 'obama', 'centrist', 'dems', 'like', 'texas', 'henry', 'cuellar', 'california', 'jim', 'costa', 'also', 'notably', 'contains', 'lawmakers', 'facing', 'tough', 'reelection', 'challenges', 'party', 'next', 'year', 'nebraska', 'democrat', 'brad', 'ashford', 'republicans', 'carlos', 'curbelo', 'florida', 'iowa', 'rod', 'blum', 'illinois', 'bob', 'dold', 'voting', 'tpa', 'taa', 'may', 'way', 'lawmakers', 'show', 'capable', 'reaching', 'across', 'aisle', 'group', 'also', 'notably', 'includes', 'democrats', 'kathleen', 'rice', 'new', 'york', 'ami', 'bera', 'california', 'took', 'heat', 'labor', 'support', 'labor', 'ran', 'ads', 'states', 'slamming', 'lawmakers', 'even', 'saying', 'mind', 'republican', 'bera', 'district', 'politico', 'reported', 'worker', 'assistance', 'yes', 'fast', 'track', 'democrat', 'republicans', 'john', 'boehner', 'largest', 'chunk', 'republicans', 'means', 'reason', 'virtually', 'democrats', 'save', 'texas', 'ruben', 'hinojosa', 'voted', 'way', 'vote', 'republicans', 'wanted', 'democrat', 'friendly', 'portion', 'bill', 'republicans', 'past', 'viewed', 'taa', 'expensive', 'ineffective', 'necessary', 'evil', 'getting', 'trade', 'deals', 'passed', 'aei', 'alex', 'brill', 'wrote', 'vote', 'lawmakers', 'took', 'opportunity', 'make', 'clear', 'see', 'taa', 'unnecessary', 'yes', 'worker', 'assistance', 'fast', 'track', 'democrats', 'republicans', 'minority', 'whip', 'steny', 'hoyer', 'dozen', 'dems', 'plus', 'moderate', 'republicans', 'means', 'tiny', 'democrat', 'dominated', 'group', 'boehner', 'expected', 'many', 'dems', 'would', 'took', 'opportunity', 'vote', 'worker', 'assistance', 'trade', 'promotion', 'authority', 'thinking', 'even', 'trade', 'deal', 'like', 'passed', 'would', 'least', 'supporting', 'policy', 'like', 'potentially', 'month', 'half', 'obama', 'pro', 'tpp', 'republicans', 'try', 'get', 'votes', 'need', 'taa', 'everyone', 'optimistic', 'maryland', 'democratic', 'rep', 'minority', 'whip', 'steny', 'hoyer', 'told', 'reporters', 'tuesday', 'time', 'whether', 'six', 'weeks', 'talking', 'six', 'seven', 'weeks', 'approximately', 'whether', 'sufficient', 'time', 'bridge', 'gaps', 'probably', 'questionable']\"\n",
      "Label: 1\n",
      "Notícia:  b\"['politics', 'republican', 'vice', 'presidential', 'candidate', 'mike', 'pence', 'speaks', 'rally', 'october', 'marietta', 'ohio', 'photo', 'afp', 'republican', 'vice', 'presidential', 'candidate', 'mike', 'pence', 'says', 'mainstream', 'media', 'biased', 'donald', 'trump', 'many', 'instances', 'voter', 'fraud', 'run', 'november', 'election', 'republican', 'presidential', 'nominee', 'trump', 'recently', 'intensified', 'criticism', 'american', 'electoral', 'system', 'calls', 'election', 'process', 'rigged', 'says', 'media', 'colluding', 'democratic', 'presidential', 'candidate', 'hillary', 'clinton', 'order', 'win', 'white', 'house', 'questioned', 'legitimacy', 'elections', 'saying', 'believed', 'vote', 'already', 'rigged', 'many', 'polling', 'places', 'final', 'presidential', 'debate', 'clinton', 'last', 'week', 'trump', 'declared', 'might', 'accept', 'results', 'november', 'presidential', 'election', 'evidence', 'rigged', 'interview', 'cbs', 'news', 'friday', 'trump', 'running', 'mate', 'pence', 'said', 'make', 'mistake', 'many', 'instances', 'lifetimes', 'voter', 'fraud', 'individual', 'polling', 'places', 'certain', 'jurisdictions', 'donald', 'trump', 'calling', 'people', 'respectfully', 'participate', 'electoral', 'process', 'want', 'victory', 'election', 'day', 'also', 'want', 'victory', 'american', 'democracy', 'stated', 'donald', 'trump', 'speaks', 'event', 'october', 'portsmouth', 'new', 'hampshire', 'photo', 'afp', 'governor', 'indiana', 'rejected', 'claims', 'critics', 'trump', 'rigging', 'rhetoric', 'may', 'encourage', 'violence', 'supporters', 'loses', 'presidential', 'election', 'certainly', 'would', 'denounce', 'calls', 'anything', 'people', 'vigorously', 'involved', 'electoral', 'process', 'said', 'tell', 'really', 'see', 'people', 'rallying', 'around', 'team', 'rallying', 'around', 'cause', 'love', 'country', 'passionate', 'country', 'anxious', 'see', 'change', 'gop', 'vice', 'presidential', 'nominee', 'stated', 'went', 'accuse', 'media', 'unfairly', 'backing', 'clinton', 'level', 'negative', 'coverage', 'running', 'mate', 'many', 'quarters', 'national', 'media', 'overwhelming', 'compared', 'negative', 'coverage', 'frankly', 'avalanche', 'scandals', 'coming', 'hillary', 'clinton', 'years', 'secretary', 'state', 'pence', 'said', 'attendees', 'stand', 'national', 'anthem', 'rally', 'republican', 'presidential', 'candidate', 'donald', 'trump', 'cross', 'insurance', 'center', 'october', 'bangor', 'maine', 'photo', 'afp', 'according', 'recent', 'poll', 'released', 'percent', 'american', 'voters', 'saying', 'election', 'could', 'stolen', 'trump', 'due', 'widespread', 'voter', 'fraud', 'percent', 'republican', 'voters', 'think', 'election', 'could', 'stolen', 'billionaire', 'businessman', 'percent', 'democrats', 'agree', 'prospect', 'rigging', 'american', 'writer', 'political', 'commentator', 'stephen', 'lendman', 'told', 'press', 'october', 'washington', 'rigging', 'elections', 'nearly', 'years', 'order', 'keep', 'anti', 'establishment', 'candidates', 'away', 'white', 'house', 'loading']\"\n",
      "Label: 0\n",
      "Notícia:  b\"['president', 'obama', 'indicated', 'thursday', 'preparing', 'announce', 'cuba', 'removal', 'state', 'department', 'list', 'state', 'sponsors', 'terrorism', 'move', 'quickly', 'lead', 'full', 'restoration', 'diplomatic', 'ties', 'opening', 'embassies', 'havana', 'washington', 'speaking', 'gathering', 'caribbean', 'leaders', 'obama', 'said', 'state', 'department', 'finished', 'review', 'issue', 'little', 'doubt', 'recommends', 'drop', 'cuba', 'list', 'real', 'question', 'announcement', 'made', 'could', 'come', 'early', 'week', 'obama', 'attends', 'summit', 'latin', 'american', 'leaders', 'first', 'time', 'joined', 'cuban', 'president', 'castro', 'administration', 'officials', 'said', 'decision', 'president', 'take', 'action', 'finalized', 'awaits', 'formal', 'consultation', 'affected', 'government', 'agencies', 'read', 'rare', 'poll', 'shows', 'vast', 'majority', 'cubans', 'welcome', 'closer', 'ties', 'anticipation', 'already', 'running', 'high', 'caribbean', 'leaders', 'obama', 'met', 'thursday', 'voiced', 'strong', 'approval', 'new', 'era', 'cuba', 'relations', 'washington', 'sen', 'benjamin', 'cardin', 'ranking', 'democrat', 'senate', 'foreign', 'relations', 'committee', 'issued', 'statement', 'saying', 'welcomed', 'said', 'positive', 'state', 'department', 'recommendation', 'obama', 'confirmed', 'white', 'house', 'received', 'review', 'said', 'would', 'make', 'announcement', 'today', 'added', 'think', 'going', 'position', 'move', 'forward', 'opening', 'embassies', 'began', 'meeting', 'jamaican', 'prime', 'minister', 'portia', 'simpson', 'miller', 'obama', 'noted', 'new', 'poll', 'cuban', 'public', 'opinion', 'published', 'thursday', 'edition', 'washington', 'post', 'demonstrated', 'overwhelming', 'support', 'normalization', 'process', 'overwhelming', 'interest', 'cubans', 'put', 'one', 'era', 'behind', 'move', 'forward', 'read', 'means', 'drop', 'cuba', 'list', 'terrorism', 'sponsors', 'positive', 'announcement', 'terror', 'list', 'decision', 'would', 'welcomed', 'two', 'day', 'summit', 'americas', 'obama', 'attend', 'friday', 'saturday', 'panama', 'leaders', 'across', 'western', 'hemisphere', 'summit', 'held', 'every', 'three', 'years', 'castro', 'first', 'time', 'attendance', 'obama', 'third', 'time', 'following', 'meetings', 'overshadowed', 'insistence', 'cuba', 'excluded', 'administration', 'aides', 'strongly', 'hinted', 'obama', 'castro', 'meet', 'handshake', 'summit', 'specified', 'nature', 'encounter', 'white', 'house', 'official', 'said', 'thurwday', 'confirm', 'president', 'obama', 'spoke', 'president', 'castro', 'wednesday', 'president', 'obama', 'departed', 'washington', 'secretary', 'state', 'john', 'kerry', 'also', 'met', 'cuban', 'foreign', 'minister', 'bruno', 'rodr', 'guez', 'parrilla', 'late', 'thursday', 'panama', 'city', 'associated', 'press', 'reported', 'delegations', 'gathered', 'eve', 'summit', 'presence', 'communist', 'cuba', 'made', 'extraordinary', 'also', 'ugly', 'scenes', 'one', 'part', 'town', 'thursday', 'forum', 'chief', 'executives', 'major', 'companies', 'including', 'facebook', 'coca', 'cola', 'boeing', 'cuban', 'trade', 'official', 'invited', 'america', 'corporate', 'leaders', 'visit', 'island', 'telling', 'country', 'open', 'business', 'parallel', 'event', 'different', 'location', 'raucous', 'pro', 'castro', 'crowds', 'disrupted', 'gathering', 'nonprofit', 'civil', 'society', 'groups', 'blocking', 'cuban', 'dissidents', 'participating', 'denouncing', 'event', 'organizers', 'daring', 'invite', 'tensions', 'boiled', 'wild', 'melee', 'wednesday', 'city', 'park', 'reminder', 'cubans', 'deep', 'divisions', 'persist', 'long', 'united', 'states', 'reopens', 'embassy', 'havana', 'deeply', 'concerned', 'reports', 'attacks', 'targeting', 'civil', 'society', 'representatives', 'panama', 'summit', 'americas', 'exercising', 'freedom', 'speech', 'harassment', 'participating', 'summit', 'americas', 'civil', 'society', 'forum', 'said', 'state', 'department', 'spokeswoman', 'marie', 'harf', 'adding', 'condemns', 'use', 'violence', 'peaceful', 'protesters', 'situation', 'also', 'sign', 'castro', 'government', 'increasingly', 'willing', 'tinker', 'economic', 'model', 'experiment', 'extend', 'politics', 'government', 'also', 'remains', 'determined', 'stifle', 'critics', 'well', 'beyond', 'cuba', 'borders', 'rodrigo', 'malmierca', 'cuba', 'minister', 'foreign', 'trade', 'investment', 'said', 'speech', 'although', 'sanctions', 'continued', 'limit', 'american', 'business', 'island', 'obama', 'recent', 'moves', 'positive', 'step', 'malmierca', 'said', 'castro', 'government', 'seeking', 'billion', 'foreign', 'investment', 'new', 'effort', 'spur', 'growth', 'obama', 'approves', 'recommendation', 'delist', 'cuba', 'congress', 'days', 'consider', 'proposal', 'legislators', 'power', 'alter', 'recommendation', 'except', 'new', 'legislation', 'move', 'seen', 'unlikely', 'administration', 'made', 'case', 'cuba', 'obama', 'decision', 'even', 'end', 'days', 'enough', 'two', 'countries', 'move', 'forward', 'reopening', 'embassies', 'cuba', 'said', 'cannot', 'envision', 'full', 'diplomatic', 'relations', 'country', 'charged', 'supporting', 'overseas', 'terrorism', 'many', 'ways', 'designation', 'first', 'imposed', 'cold', 'war', 'relic', 'although', 'united', 'states', 'strongly', 'objects', 'cuba', 'domestic', 'policies', 'offered', 'evidence', 'decades', 'cuba', 'actively', 'involved', 'terrorism', 'abroad', 'leaders', 'members', 'caribbean', 'community', 'known', 'caricom', 'met', 'obama', 'attendance', 'welcomed', 'broader', 'move', 'toward', 'normalization', 'simpson', 'miller', 'called', 'bold', 'courageous', 'move', 'good', 'people', 'obama', 'said', 'right', 'side', 'history', 'obama', 'moves', 'normalize', 'relations', 'cuba', 'american', 'released', 'havana', 'focus', 'caricom', 'talks', 'covered', 'regional', 'security', 'economic', 'development', 'obama', 'visit', 'also', 'part', 'larger', 'plan', 'includes', 'outreach', 'cuba', 'move', 'directly', 'related', 'administration', 'efforts', 'improve', 'standing', 'region', 'undermine', 'venezuela', 'attempts', 'draw', 'caribbean', 'states', 'orbit', 'years', 'venezuela', 'used', 'cut', 'rate', 'oil', 'buy', 'anti', 'american', 'support', 'cash', 'strapped', 'caribbean', 'governments', 'recent', 'weeks', 'caracas', 'money', 'problems', 'rolled', 'back', 'energy', 'subsidies', 'caricom', 'members', 'energy', 'security', 'program', 'announced', 'january', 'vice', 'president', 'biden', 'obama', 'administration', 'hopes', 'help', 'fund', 'island', 'infrastructure', 'receive', 'use', 'gas', 'petroleum', 'subsidize', 'sales', 'energy', 'products', 'caribbean', 'try', 'wean', 'island', 'governments', 'away', 'venezuela', 'administration', 'officials', 'also', 'attempted', 'play', 'difficulties', 'caracas', 'thomas', 'shannon', 'senior', 'aide', 'secretary', 'state', 'john', 'kerry', 'venezuela', 'thursday', 'meetings', 'president', 'nicol', 'maduro', 'visit', 'aimed', 'give', 'least', 'impression', 'united', 'states', 'trying', 'smooth', 'differences', 'maduro', 'government', 'caricom', 'meeting', 'larger', 'summit', 'americas', 'miroff', 'reported', 'panama', 'city', 'david', 'nakamura', 'washington', 'also', 'contributed', 'story', 'cuba', 'relations', 'stand', 'may', 'change', 'summit', 'americas', 'focus', 'likely', 'cuba', 'argument', 'venezuela', 'puts', 'cuba', 'awkward', 'position', 'today', 'coverage', 'post', 'correspondents', 'around', 'world']\"\n",
      "Label: 1\n",
      "Notícia:  b\"['hillary', 'clinton', 'earned', 'enough', 'delegates', 'clinch', 'democratic', 'presidential', 'nomination', 'according', 'associated', 'press', 'count', 'released', 'monday', 'night', 'assessment', 'swiftly', 'challenged', 'primary', 'rival', 'bernie', 'sanders', 'campaign', 'released', 'updated', 'tally', 'showing', 'former', 'secretary', 'state', 'winning', 'enough', 'delegates', 'become', 'first', 'woman', 'top', 'major', 'party', 'presidential', 'ticket', 'eve', 'last', 'major', 'day', 'primary', 'voting', 'said', 'clinton', 'reached', 'delegates', 'needed', 'become', 'presumptive', 'democratic', 'nominee', 'weekend', 'victory', 'puerto', 'rico', 'late', 'burst', 'support', 'superdelegates', 'party', 'officials', 'officeholders', 'many', 'eager', 'wrap', 'primary', 'free', 'support', 'whichever', 'candidate', 'want', 'really', 'need', 'bring', 'close', 'primary', 'process', 'get', 'defeating', 'donald', 'trump', 'said', 'nancy', 'worley', 'superdelegate', 'chairs', 'alabama', 'democratic', 'party', 'provided', 'one', 'last', 'endorsements', 'put', 'clinton', 'top', 'time', 'stand', 'behind', 'presumptive', 'candidate', 'said', 'michael', 'brown', 'one', 'two', 'superdelegates', 'district', 'columbia', 'came', 'forward', 'past', 'week', 'back', 'clinton', 'city', 'june', 'primary', 'acting', 'like', 'undecided', 'people', 'america', 'spoken', 'clinton', 'touted', 'news', 'long', 'beach', 'calif', 'campaign', 'event', 'saying', 'campaign', 'brink', 'historic', 'unprecedented', 'moment', 'even', 'stressed', 'six', 'states', 'yet', 'vote', 'tuesday', 'urged', 'supporters', 'cast', 'ballots', 'contests', 'six', 'states', 'vote', 'tuesday', 'include', 'new', 'jersey', 'north', 'dakota', 'new', 'mexico', 'montana', 'california', 'south', 'dakota', 'campaign', 'manager', 'robby', 'mook', 'said', 'statement', 'important', 'milestone', 'six', 'states', 'voting', 'tuesday', 'millions', 'people', 'heading', 'polls', 'hillary', 'clinton', 'working', 'earn', 'every', 'vote', 'look', 'forward', 'tuesday', 'night', 'hillary', 'clinton', 'clinch', 'win', 'popular', 'vote', 'also', 'majority', 'pledged', 'delegates', 'sanders', 'campaign', 'rejected', 'declaration', 'clinton', 'clinched', 'party', 'nod', 'citing', 'longstanding', 'position', 'superdelegates', 'count', 'actually', 'vote', 'convention', 'free', 'switch', 'sides', 'nothing', 'concede', 'sanders', 'told', 'ktvu', 'late', 'monday', 'rally', 'san', 'francisco', 'secretary', 'clinton', 'requisite', 'number', 'pledged', 'delegates', 'win', 'democratic', 'nomination', 'dependent', 'superdelegates', 'vote', 'july', 'right', 'goal', 'right', 'moment', 'everything', 'win', 'primary', 'tomorrow', 'sanders', 'spokesman', 'michael', 'briggs', 'accused', 'media', 'rush', 'judgement', 'ignoring', 'democratic', 'national', 'committee', 'clear', 'statement', 'wrong', 'count', 'votes', 'superdelegates', 'actually', 'vote', 'convention', 'summer', 'job', 'convention', 'convince', 'superdelegates', 'bernie', 'far', 'strongest', 'candidate', 'donald', 'trump', 'briggs', 'said', 'monday', 'sanders', 'supporters', 'expressed', 'disappointment', 'calls', 'made', 'california', 'primary', 'urged', 'senator', 'continue', 'despite', 'pronouncements', 'going', 'keep', 'fighting', 'last', 'vote', 'counted', 'said', 'kristen', 'elliott', 'sanders', 'supporter', 'san', 'francisco', 'attended', 'rally', 'said', 'another', 'attendee', 'patrick', 'bryant', 'san', 'francisco', 'bookies', 'call', 'fights', 'house', 'minority', 'leader', 'nancy', 'pelosi', 'endorsed', 'clinton', 'interview', 'good', 'morning', 'america', 'home', 'state', 'primary', 'voter', 'california', 'voted', 'hillary', 'clinton', 'president', 'united', 'states', 'proud', 'endorse', 'position', 'pelosi', 'said', 'though', 'adding', 'clinton', 'pledged', 'delegates', 'primaries', 'caucuses', 'also', 'support', 'superdelegates', 'according', 'associated', 'press', 'count', 'surveyed', 'superdelegates', 'repeatedly', 'past', 'seven', 'months', 'remain', 'publicly', 'uncommitted', 'superdelegates', 'counted', 'clinton', 'tally', 'unequivocally', 'told', 'back', 'convention', 'change', 'vote', 'since', 'start', 'survey', 'late', 'superdelegates', 'switched', 'supporting', 'clinton', 'backing', 'sanders', 'clinton', 'presumptive', 'victory', 'monday', 'came', 'nearly', 'eight', 'years', 'day', 'conceded', 'first', 'white', 'house', 'campaign', 'barack', 'obama', 'back', 'famously', 'noted', 'inability', 'shatter', 'highest', 'hardest', 'glass', 'ceiling', 'campaigning', 'time', 'loyal', 'successor', 'obama', 'clinton', 'fended', 'surprisingly', 'strong', 'challenge', 'vermont', 'sen', 'sanders', 'mobilized', 'millions', 'fervently', 'liberal', 'message', 'insurgent', 'candidacy', 'revealed', 'deep', 'level', 'national', 'frustration', 'politics', 'usual', 'even', 'among', 'democrats', 'controlled', 'white', 'house', 'since', 'clinton', 'outpaced', 'sanders', 'winning', 'new', 'superdelegate', 'endorsements', 'even', 'string', 'primary', 'caucus', 'wins', 'may', 'following', 'results', 'puerto', 'rico', 'longer', 'possible', 'sanders', 'reach', 'needed', 'win', 'nomination', 'based', 'remaining', 'available', 'pledged', 'delegates', 'uncommitted', 'superdelegates', 'according', 'clinton', 'leads', 'sanders', 'million', 'cast', 'votes', 'pledged', 'delegates', 'superdelegates', 'also', 'caucuses', 'primaries', 'compared', 'victories', 'echoing', 'sentiments', 'california', 'gov', 'jerry', 'brown', 'overcame', 'decades', 'long', 'rivalry', 'clinton', 'family', 'endorse', 'last', 'week', 'many', 'superdelegates', 'expressed', 'desire', 'close', 'ranks', 'around', 'nominee', 'could', 'defeat', 'trump', 'november', 'beyond', 'winning', 'millions', 'sanders', 'supporters', 'vow', 'remain', 'loyal', 'self', 'described', 'democratic', 'socialist', 'clinton', 'faces', 'challenges', 'turns', 'toward', 'november', 'including', 'criticism', 'decision', 'use', 'private', 'email', 'server', 'run', 'new', 'york', 'home', 'serving', 'secretary', 'state', 'deep', 'unpopularity', 'among', 'republicans', 'pushed', 'many', 'leery', 'trump', 'nevertheless', 'embrace', 'campaign', 'saving', 'country', 'preventing', 'third', 'progressive', 'liberal', 'term', 'clinton', 'presidency', 'would', 'house', 'speaker', 'paul', 'ryan', 'told', 'last', 'week', 'finally', 'endorsed', 'trump', 'weeks', 'new', 'yorker', 'clinched', 'gop', 'nomination', 'yet', 'clinton', 'showed', 'signs', 'limping', 'general', 'election', 'approached', 'milestone', 'leaving', 'sanders', 'behind', 'focusing', 'lacerating', 'trump', 'said', 'electing', 'billionaire', 'businessman', 'spent', 'months', 'hitting', 'husband', 'bitingly', 'personal', 'attacks', 'would', 'historic', 'mistake', 'unprepared', 'temperamentally', 'unfit', 'hold', 'office', 'requires', 'knowledge', 'stability', 'immense', 'responsibility', 'clinton', 'said', 'last', 'week', 'speech', 'striking', 'forcefulness', 'previewing', 'brutal', 'five', 'month', 'general', 'election', 'campaign', 'come', 'even', 'without', 'nomination', 'sanders', 'claim', 'ideological', 'victory', 'liberal', 'positions', 'pushed', 'issue', 'income', 'inequality', 'spotlight', 'drove', 'clinton', 'left', 'issues', 'trade', 'wall', 'street', 'campaign', 'finance', 'reform', 'prevailed', 'part', 'claiming', 'much', 'coalition', 'boosted', 'obama', 'overwhelming', 'support', 'women', 'minorities', 'catapulting', 'decisive', 'victories', 'diverse', 'delegate', 'rich', 'states', 'new', 'york', 'texas', 'clinton', 'launched', 'campaign', 'last', 'april', 'largely', 'unopposed', 'scared', 'formidable', 'challengers', 'locking', 'much', 'party', 'organizational', 'fundraising', 'infrastructure', 'vice', 'president', 'joe', 'biden', 'seen', 'threatening', 'rival', 'opted', 'run', 'october', 'four', 'opponents', 'take', 'sanders', 'one', 'emerged', 'provide', 'serious', 'challenge', 'caught', 'fire', 'among', 'young', 'voters', 'independents', 'campaign', 'gaining', 'momentum', 'narrow', 'loss', 'iowa', 'february', 'commanding', 'victory', 'new', 'hampshire', 'ability', 'raise', 'vast', 'sums', 'money', 'online', 'gave', 'resources', 'continue', 'spring', 'clinton', 'vowed', 'repeat', 'failings', 'campaign', 'focused', 'early', 'winning', 'delegates', 'hiring', 'help', 'obama', 'old', 'team', 'launching', 'campaign', 'pushed', 'superdelegates', 'making', 'early', 'commitments', 'held', 'campaign', 'appearances', 'areas', 'could', 'win', 'pledged', 'delegates', 'victory', 'nevada', 'late', 'february', 'diminished', 'concerns', 'allies', 'campaign', 'operation', 'decisive', 'wins', 'southern', 'states', 'super', 'tuesday', 'sweep', 'march', 'contests', 'gave', 'significant', 'delegate', 'lead', 'became', 'insurmountable', 'end', 'april', 'big', 'victories', 'new', 'york', 'northeast', 'moves', 'face', 'trump', 'whose', 'ascent', 'top', 'republican', 'party', 'expected', 'brash', 'real', 'estate', 'mogul', 'reality', 'star', 'long', 'since', 'turned', 'attention', 'primary', 'foes', 'clinton', 'debuting', 'nickname', 'crooked', 'hillary', 'arguing', 'belongs', 'jail', 'email', 'setup', 'long', 'primary', 'campaign', 'clinton', 'said', 'past', 'weekend', 'california', 'ready', 'accept', 'challenge', 'judged', 'words', 'deeds', 'race', 'ethnicity', 'religion', 'said', 'saturday', 'oxnard', 'time', 'judge', 'donald', 'trump', 'words', 'deeds', 'believe', 'words', 'deeds', 'disqualify', 'president', 'united', 'states', 'associated', 'press', 'contributed', 'report']\"\n",
      "Label: 1\n",
      "Notícia:  b\"['florida', 'president', 'obama', 'nominated', 'first', 'openly', 'gay', 'black', 'man', 'sit', 'federal', 'district', 'court', 'new', 'york', 'nominated', 'first', 'asian', 'american', 'lesbian', 'pick', 'court', 'appeals', 'circuit', 'first', 'south', 'asian', 'reelected', 'strong', 'support', 'women', 'ethnic', 'minorities', 'gays', 'obama', 'moving', 'quickly', 'change', 'face', 'federal', 'judiciary', 'end', 'second', 'term', 'setting', 'stage', 'another', 'series', 'drawn', 'confrontations', 'republicans', 'congress', 'president', 'named', 'three', 'dozen', 'judicial', 'candidates', 'since', 'january', 'expected', 'nominate', 'scores', 'next', 'months', 'aides', 'said', 'push', 'marks', 'significant', 'departure', 'sluggish', 'pace', 'appointments', 'throughout', 'much', 'first', 'term', 'republicans', 'democrats', 'complained', 'obama', 'tried', 'hard', 'enough', 'fill', 'vacancies', 'federal', 'courts', 'new', 'wave', 'nominations', 'part', 'effort', 'obama', 'cement', 'legacy', 'long', 'outlives', 'presidency', 'makes', 'court', 'system', 'closely', 'resemble', 'changing', 'society', 'governs', 'administration', 'officials', 'said', 'diversity', 'thing', 'strengthening', 'judicial', 'system', 'white', 'house', 'counsel', 'kathryn', 'ruemmler', 'said', 'enhances', 'bench', 'performance', 'bench', 'quality', 'discussion', 'different', 'perspectives', 'different', 'life', 'experiences', 'different', 'professional', 'experiences', 'coming', 'different', 'station', 'life', 'obama', 'biggest', 'obstacle', 'senate', 'republicans', 'frequently', 'blocked', 'judicial', 'confirmation', 'votes', 'months', 'cases', 'years', 'obama', 'nominees', 'currently', 'awaiting', 'votes', 'senate', 'including', 'several', 'holdovers', 'renominated', 'year', 'additional', 'vacancies', 'awaiting', 'nominees', 'according', 'federal', 'judicial', 'center', 'conservatives', 'skeptical', 'push', 'name', 'women', 'minorities', 'bench', 'arguing', 'amounts', 'unjustified', 'affirmative', 'action', 'curt', 'levey', 'outspoken', 'obama', 'critic', 'runs', 'advocacy', 'group', 'committee', 'justice', 'said', 'white', 'house', 'may', 'lowering', 'standards', 'nominate', 'nonwhite', 'judges', 'talking', 'achieving', 'diversity', 'aggressive', 'identification', 'minority', 'candidates', 'prerogative', 'levey', 'said', 'talking', 'preferences', 'lower', 'threshold', 'qualifications', 'minorities', 'approve', 'hard', 'know', 'unlike', 'college', 'admissions', 'system', 'easy', 'quantify', 'difficult', 'obama', 'first', 'term', 'judicial', 'nominations', 'often', 'fell', 'wayside', 'face', 'economic', 'crisis', 'policy', 'priorities', 'white', 'house', 'many', 'liberal', 'allies', 'complained', 'president', 'little', 'champion', 'nominees', 'named', 'republicans', 'throw', 'every', 'roadblock', 'said', 'nan', 'aron', 'president', 'liberal', 'alliance', 'justice', 'counting', 'white', 'house', 'senate', 'leadership', 'assertive', 'getting', 'nominees', 'confirmed', 'white', 'house', 'said', 'intends', 'aggressively', 'push', 'judicial', 'nominees', 'obama', 'second', 'term', 'hopeful', 'changes', 'filibuster', 'rules', 'help', 'speed', 'process', 'senate', 'decided', 'january', 'limit', 'debate', 'district', 'court', 'nominees', 'hours', 'two', 'hours', 'although', 'restrictions', 'apply', 'nominees', 'supreme', 'court', 'federal', 'appeals', 'courts', 'obama', 'already', 'broken', 'barriers', 'judicial', 'appointments', 'president', 'aides', 'said', 'circuit', 'court', 'level', 'four', 'states', 'first', 'female', 'justices', 'five', 'first', 'black', 'justices', 'two', 'first', 'hispanics', 'sonia', 'sotomayor', 'also', 'became', 'first', 'hispanic', 'serve', 'supreme', 'court', 'leveling', 'playing', 'field', 'goal', 'kind', 'frame', 'overrides', 'whole', 'endeavor', 'ruemmler', 'oversees', 'nominating', 'process', 'said', 'interview', 'obama', 'former', 'constitutional', 'law', 'professor', 'long', 'argued', 'broad', 'set', 'criteria', 'selecting', 'judges', 'picked', 'sotomayor', 'obama', 'said', 'experience', 'tested', 'obstacles', 'barriers', 'hardship', 'misfortune', 'important', 'qualification', 'jurist', 'imparts', 'sense', 'compassion', 'ordinary', 'citizens', 'diversity', 'obama', 'judicial', 'nominees', 'stands', 'contrast', 'staff', 'selections', 'start', 'second', 'term', 'dominated', 'white', 'men', 'including', 'white', 'house', 'chief', 'staff', 'denis', 'mcdonough', 'secretary', 'state', 'john', 'kerry', 'defense', 'secretary', 'chuck', 'hagel', 'treasury', 'secretary', 'jack', 'lew', 'contrast', 'pending', 'judicial', 'nominees', 'women', 'ethnic', 'minorities', 'five', 'openly', 'gay', 'according', 'white', 'house', 'statistics', 'six', 'straight', 'white', 'men', 'obama', 'first', 'term', 'percent', 'confirmed', 'judges', 'nonwhites', 'compared', 'percent', 'president', 'george', 'bush', 'percent', 'president', 'bill', 'clinton', 'trend', 'similar', 'gender', 'percent', 'obama', 'first', 'term', 'judges', 'women', 'compared', 'percent', 'bush', 'percent', 'clinton', 'federal', 'judgeships', 'percent', 'held', 'women', 'percent', 'held', 'non', 'whites', 'according', 'data', 'kept', 'federal', 'judicial', 'center', 'important', 'courts', 'reflect', 'diversity', 'coming', 'terms', 'demographics', 'said', 'nancy', 'zirkin', 'leadership', 'conference', 'civil', 'human', 'rights', 'advocacy', 'group', 'long', 'lasting', 'legacy', 'obama', 'putting', 'diverse', 'number', 'judges', 'believe', 'shape', 'courts', 'years', 'come', 'obama', 'nominated', 'mary', 'murguia', 'seat', 'court', 'appeals', 'circuit', 'murguia', 'parents', 'emigrated', 'mexico', 'kansas', 'born', 'others', 'include', 'first', 'haitian', 'american', 'afro', 'caribbean', 'vietnamese', 'american', 'korean', 'american', 'judges', 'nominated', 'respective', 'positions', 'one', 'senior', 'republican', 'senate', 'aide', 'requested', 'anonymity', 'order', 'discuss', 'nomination', 'process', 'said', 'going', 'continue', 'insist', 'level', 'quality', 'among', 'nominees', 'advocating', 'opposing', 'diversity', 'goals', 'aide', 'said', 'override', 'substantive', 'qualifications', 'nominees', 'professional', 'competence', 'judicial', 'temperament', 'respect', 'law', 'understanding', 'constitution', 'liberal', 'groups', 'pressuring', 'white', 'house', 'look', 'diversity', 'race', 'gender', 'sexual', 'orientation', 'also', 'professional', 'experience', 'want', 'fewer', 'corporate', 'lawyers', 'white', 'shoe', 'firms', 'public', 'defenders', 'lawyers', 'outside', 'sometimes', 'called', 'judicial', 'monastery', 'completely', 'different', 'view', 'somebody', 'represented', 'general', 'motors', 'zirkin', 'said', 'obama', 'judges', 'many', 'also', 'establish', 'diverse', 'bench', 'progressives', 'obama', 'future', 'presidents', 'could', 'tap', 'supreme', 'court', 'vacancies', 'one', 'nominee', 'goodwin', 'liu', 'obama', 'pick', 'february', 'court', 'appeals', 'circuit', 'taiwanese', 'american', 'liu', 'historic', 'selection', 'republicans', 'stalled', 'nomination', 'months', 'saying', 'past', 'writings', 'showing', 'broad', 'interpretation', 'constitution', 'sharp', 'criticism', 'conservative', 'supreme', 'court', 'justices', 'john', 'roberts', 'samuel', 'alito', 'liberal', 'deserve', 'vote', 'goodwin', 'liu', 'run', 'elected', 'office', 'serve', 'judge', 'sen', 'lindsey', 'graham', 'said', 'may', 'statement', 'ideologues', 'place', 'bench', 'according', 'white', 'house', 'obama', 'first', 'term', 'nominees', 'took', 'average', 'days', 'confirmed', 'compared', 'days', 'bush', 'days', 'clinton', 'ruemmler', 'said', 'little', 'substantive', 'opposition', 'president', 'judicial', 'nominees', 'pointed', 'case', 'robert', 'bacharach', 'district', 'court', 'judge', 'oklahoma', 'obama', 'nominated', 'last', 'year', 'court', 'appeals', 'circuit', 'bacharach', 'home', 'state', 'senators', 'tom', 'coburn', 'james', 'inhofe', 'republicans', 'supported', 'like', 'guy', 'inhofe', 'told', 'oklahoman', 'told', 'often', 'white', 'house', 'agree', 'anything', 'still', 'senate', 'republicans', 'filibustered', 'bacharach', 'nomination', 'gave', 'specific', 'reason', 'vow', 'block', 'obama', 'circuit', 'court', 'nominees', 'presidential', 'election', 'year', 'senate', 'democrats', 'much', 'bush', 'election', 'year', 'nominees', 'days', 'waiting', 'bacharach', 'nomination', 'came', 'floor', 'vote', 'feb', 'passed']\"\n",
      "Label: 1\n",
      "Notícia:  b\"['tuesday', 'first', 'season', 'democratic', 'debate', 'unlikely', 'bernie', 'sanders', 'thinks', 'high', 'minded', 'nuanced', 'discussion', 'policies', 'prescriptions', 'would', 'help', 'americans', 'media', 'running', 'debate', 'media', 'chief', 'goal', 'believes', 'create', 'nation', 'morons', 'exactly', 'new', 'complaint', 'fact', 'complaints', 'media', 'predate', 'birth', 'reporters', 'covering', 'las', 'vegas', 'bout', 'sanders', 'possesses', 'consistency', 'piston', 'colleague', 'michael', 'kruse', 'recently', 'put', 'four', 'decades', 'politicking', 'sanders', 'remained', 'faithful', 'original', 'views', 'labor', 'wall', 'street', 'banks', 'poverty', 'socialism', 'education', 'environment', 'women', 'rights', 'income', 'disparities', 'foreign', 'policy', 'woes', 'middle', 'class', 'sanders', 'ideas', 'media', 'especially', 'calls', 'corporate', 'media', 'wavered', 'since', 'entered', 'vermont', 'politics', 'view', 'media', 'tend', 'trivialize', 'important', 'issues', 'cover', 'want', 'cover', 'campaign', 'fights', 'campaign', 'debates', 'rely', 'entertaining', 'soundbites', 'news', 'agenda', 'generating', 'profits', 'producing', 'quality', 'journalism', 'educate', 'voters', 'powerful', 'corporate', 'media', 'seek', 'even', 'concentrated', 'power', 'acquisition', 'consolidation', 'politicians', 'tying', 'press', 'whipping', 'post', 'centuries', 'sanders', 'discovered', 'anything', 'new', 'campaign', 'cycle', 'hardly', 'day', 'goes', 'without', 'donald', 'trump', 'calling', 'reporters', 'clowns', 'dishonest', 'sometimes', 'singling', 'name', 'considers', 'worst', 'offenders', 'hillary', 'clinton', 'disdain', 'scorps', 'press', 'legendary', 'playing', 'duck', 'run', 'marginalizes', 'press', 'inquiries', 'dismissive', 'evasive', 'answers', 'calling', 'questions', 'distractions', 'presidential', 'contender', 'memory', 'confronted', 'media', 'quite', 'way', 'sanders', 'candidate', 'media', 'criticism', 'central', 'core', 'beliefs', 'sanders', 'complaints', 'calls', 'question', 'product', 'also', 'capitalist', 'structure', 'upon', 'big', 'media', 'subsists', 'sanders', 'never', 'shrinks', 'speaking', 'considers', 'truth', 'media', 'power', 'august', 'campaign', 'swing', 'iowa', 'sanders', 'confronted', 'reporters', 'content', 'questions', 'coming', 'across', 'press', 'critic', 'corporate', 'media', 'talks', 'kinds', 'issues', 'except', 'important', 'issues', 'sanders', 'said', 'hitting', 'trivialization', 'check', 'box', 'time', 'time', 'asked', 'criticize', 'hillary', 'clinton', 'sport', 'guys', 'like', 'continued', 'one', 'press', 'critic', 'another', 'inform', 'sanders', 'asking', 'politician', 'criticize', 'another', 'politician', 'views', 'actions', 'necessarily', 'sport', 'conflict', 'seeks', 'avoid', 'helps', 'voters', 'decide', 'candidate', 'better', 'represents', 'views', 'interests', 'know', 'sanders', 'dug', 'point', 'ever', 'surrender', 'public', 'continued', 'hallway', 'reprimand', 'tired', 'gotcha', 'questions', 'press', 'effort', 'reporters', 'make', 'conflict', 'candidates', 'rather', 'talking', 'real', 'issues', 'impacting', 'american', 'people', 'flourish', 'filled', 'confrontation', 'entertainment', 'check', 'boxes', 'overflowing', 'media', 'never', 'sanders', 'highest', 'priority', 'instance', 'rate', 'mention', 'bernie', 'president', 'issue', 'page', 'topic', 'never', 'far', 'lips', 'time', 'career', 'sometimes', 'criticizes', 'press', 'iowa', 'example', 'fend', 'questions', 'thinks', 'beneath', 'advance', 'campaign', 'regards', 'personal', 'perfectly', 'sandersian', 'world', 'allowed', 'ask', 'answer', 'questions', 'times', 'sanders', 'media', 'critique', 'verges', 'noam', 'chomsky', 'territory', 'denouncing', 'press', 'adhering', 'corporatist', 'agenda', 'sanders', 'expressed', 'early', 'views', 'largely', 'unchanged', 'day', 'media', 'piece', 'vermont', 'vanguard', 'press', 'social', 'control', 'tube', 'goal', 'corporate', 'masters', 'intentionally', 'brainwash', 'people', 'submission', 'helplessness', 'making', 'easier', 'marks', 'salesmen', 'underarm', 'spray', 'deodorants', 'automobiles', 'beer', 'cat', 'food', 'politicians', 'whatever', 'deodorant', 'menace', 'recurrent', 'sanders', 'theme', 'sanders', 'continued', 'considerable', 'forethought', 'capitalists', 'attempting', 'create', 'nation', 'morons', 'faithfully', 'buy', 'product', 'vote', 'candidate', 'faithfully', 'work', 'employers', 'low', 'wage', 'possible', 'asserting', 'controllers', 'medium', 'far', 'power', 'almost', 'politician', 'sanders', 'called', 'democratically', 'owned', 'controlled', 'system', 'populated', 'dozens', 'channels', 'commercial', 'free', 'broadcasting', 'replace', 'existing', 'order', 'sure', 'sanders', 'finds', 'little', 'consolation', 'fact', 'half', 'wish', 'came', 'true', 'dozens', 'commercial', 'free', 'channels', 'disney', 'channel', 'hdnet', 'porn', 'channels', 'various', 'flavors', 'hbo', 'starz', 'showtime', 'established', 'since', 'vanguard', 'press', 'manifesto', 'commercial', 'free', 'channels', 'still', 'corporately', 'owned', 'politician', 'ignore', 'press', 'opt', 'take', 'lumps', 'distributed', 'many', 'conservative', 'politicians', 'fight', 'like', 'punching', 'bag', 'advantage', 'following', 'conservative', 'example', 'sanders', 'fought', 'press', 'decades', 'done', 'much', 'burnish', 'image', 'rebel', 'independent', 'every', 'one', 'political', 'campaigns', 'hopeless', 'third', 'party', 'candidacies', 'current', 'run', 'president', 'sanders', 'cast', 'david', 'fighting', 'goliaths', 'major', 'parties', 'extends', 'underdog', 'persona', 'relating', 'media', 'another', 'goliath', 'making', 'easier', 'deflect', 'press', 'corps', 'criticisms', 'unfair', 'corporate', 'manipulation', 'whereas', 'clinton', 'trump', 'might', 'parry', 'press', 'sport', 'trump', 'fact', 'thursday', 'night', 'devoting', 'much', 'speech', 'las', 'vegas', 'media', 'complaints', 'sanders', 'press', 'critique', 'stand', 'separate', 'critique', 'capitalism', 'fact', 'complaints', 'media', 'part', 'central', 'animating', 'principle', 'entire', 'political', 'career', 'live', 'nation', 'handful', 'wealthy', 'people', 'extraordinary', 'power', 'economy', 'political', 'life', 'media', 'said', 'august', 'speech', 'reducing', 'corporate', 'media', 'mouthpiece', 'rich', 'know', 'feels', 'rich']\"\n",
      "Label: 1\n",
      "Notícia:  b\"['bitcoin', 'soars', 'china', 'launches', 'crackdown', 'wealth', 'management', 'products', 'oct', 'shares', 'trading', 'tight', 'range', 'much', 'summer', 'coiled', 'within', 'range', 'around', 'mid', 'past', 'several', 'weeks', 'bitcoin', 'started', 'push', 'higher', 'closely', 'tracking', 'decline', 'chinese', 'yuan', 'shown', 'however', 'recent', 'burst', 'bitcoin', 'activity', 'sent', 'surging', 'overnight', 'little', 'moves', 'official', 'chinese', 'currency', 'recently', 'rebounded', 'modestly', 'tracking', 'recent', 'dip', 'dollar', 'likely', 'attributable', 'long', 'overdue', 'crackdown', 'china', 'wealth', 'management', 'products', 'key', 'component', 'china', 'shadow', 'banking', 'system', 'bloomberg', 'reported', 'overnight', 'china', 'central', 'bank', 'finally', 'conducting', 'trial', 'monitoring', 'banks', 'balance', 'sheet', 'wealth', 'management', 'products', 'macro', 'prudential', 'assessment', 'system', 'question', 'one', 'ask', 'perhaps', 'trillion', 'asset', 'locked', 'wmps', 'far', 'exempt', 'regulatory', 'supervision', 'notable', 'going', 'forward', 'wmps', 'included', 'calculating', 'broad', 'based', 'credit', 'something', 'discussed', 'last', 'week', 'showed', 'vastly', 'china', 'undercounting', 'broadest', 'credit', 'aggregate', 'total', 'social', 'financing', 'ignoring', 'shadow', 'debt', 'currently', 'products', 'included', 'assessment', 'framework', 'however', 'clear', 'people', 'bank', 'china', 'add', 'bloomberg', 'added', 'citigroup', 'estimated', 'trillion', 'yuan', 'trillion', 'products', 'key', 'building', 'block', 'china', 'shadow', 'banking', 'system', 'could', 'covered', 'banks', 'estimates', 'even', 'bigger', 'matter', 'size', 'extra', 'scrutiny', 'certainly', 'cool', 'growth', 'unregulated', 'products', 'china', 'tries', 'rein', 'financial', 'risks', 'could', 'tank', 'economy', 'adding', 'products', 'central', 'bank', 'calculations', 'could', 'help', 'emphasize', 'requirements', 'lenders', 'limit', 'dangers', 'maintain', 'sufficient', 'capital', 'change', 'would', 'mean', 'regulators', 'would', 'may', 'better', 'able', 'control', 'pace', 'broad', 'based', 'credit', 'supply', 'judy', 'zhang', 'hong', 'kong', 'based', 'analyst', 'citigroup', 'said', 'note', 'wmp', 'issuance', 'yields', 'may', 'shrink', 'lenders', 'pass', 'extra', 'costs', 'investors', 'said', 'bank', 'america', 'explained', 'overnight', 'late', 'pboc', 'officially', 'introduced', 'mpa', 'framework', 'expanded', 'focus', 'loans', 'credit', 'broader', 'sense', 'covering', 'loans', 'also', 'banks', 'bond', 'investments', 'equity', 'rights', 'investments', 'financial', 'assets', 'bought', 'sale', 'agreement', 'deposits', 'non', 'deposit', 'taking', 'financial', 'institutions', 'mpa', 'make', 'difficult', 'banks', 'adjust', 'balance', 'sheet', 'assets', 'circumvent', 'government', 'credit', 'control', 'latest', 'move', 'adds', 'banks', 'balance', 'sheet', 'wmps', 'without', 'principal', 'guarantee', 'mix', 'theory', 'make', 'difficult', 'banks', 'move', 'assets', 'balance', 'sheet', 'chinese', 'households', 'companies', 'banks', 'held', 'record', 'trillion', 'yuan', 'wealth', 'management', 'products', 'june', 'china', 'banking', 'regulatory', 'commission', 'tightening', 'rules', 'wmps', 'since', 'late', 'products', 'non', 'principal', 'guaranteed', 'means', 'reside', 'banks', 'balance', 'sheets', 'implications', 'economy', 'significant', 'cornerstone', 'pboc', 'mpa', 'capital', 'adequacy', 'line', 'basel', 'iii', 'possible', 'long', 'term', 'banks', 'may', 'required', 'provide', 'capital', 'least', 'balance', 'sheet', 'assets', 'including', 'wmps', 'jun', 'total', 'balance', 'bank', 'wmps', 'reached', 'rmb', 'without', 'considering', 'future', 'growth', 'additional', 'amount', 'mpa', 'would', 'rmb', 'deducting', 'rmb', 'products', 'guarantees', 'already', 'banks', 'balance', 'sheet', 'rmb', 'cash', 'deposits', 'represents', 'banks', 'balance', 'sheet', 'assets', 'june', 'rmb', 'important', 'view', 'latest', 'development', 'broad', 'context', 'policy', 'tightening', 'shadow', 'banking', 'activities', 'since', 'early', 'year', 'related', 'reports', 'linked', 'sidebar', 'however', 'immediate', 'practical', 'consideration', 'increased', 'regulatory', 'supervision', 'trillion', 'related', 'product', 'funds', 'many', 'highly', 'suspect', 'origins', 'seek', 'shift', 'away', 'heightened', 'scrutiny', 'find', 'alternative', 'venues', 'may', 'explain', 'latest', 'jump', 'bitcoin', 'modest', 'portion', 'funds', 'locked', 'wealth', 'management', 'products', 'may', 'found', 'digital', 'currency', 'promptly', 'sending', 'higher', 'nearly', 'crackdown', 'wmps', 'persist', 'may', 'catalyst', 'push', 'bitcoin', 'recent', 'multi', 'year', 'highs', 'hit', 'earlier', 'summer']\"\n",
      "Label: 0\n",
      "Notícia:  b\"['martin', 'luther', 'king', 'died', 'young', 'age', 'ever', 'since', 'assassination', 'contest', 'legacy', 'met', 'black', 'radicals', 'sneer', 'national', 'holiday', 'celebrating', 'birth', 'see', 'king', 'holiday', 'white', 'america', 'preference', 'celebrating', 'moderate', 'non', 'violent', 'black', 'leader', 'instead', 'militant', 'violent', 'young', 'malcolm', 'side', 'critics', 'see', 'king', 'holiday', 'political', 'correctness', 'taken', 'new', 'heights', 'king', 'president', 'like', 'washington', 'lincoln', 'ask', 'deserving', 'national', 'holiday', 'blinded', 'racial', 'bitterness', 'suggest', 'president', 'reagan', 'signed', 'king', 'holiday', 'law', 'token', 'political', 'gesture', 'good', 'emotionally', 'powerful', 'new', 'movie', 'selma', 'king', 'historic', 'role', 'struggle', 'voting', 'rights', 'set', 'new', 'fight', 'legacy', 'dramatic', 'film', 'director', 'ava', 'duvernay', 'remembered', 'less', 'record', 'king', 'greatness', 'sign', 'racial', 'power', 'struggles', 'early', 'century', 'know', 'real', 'civil', 'rights', 'story', 'written', 'two', 'best', 'selling', 'histories', 'period', 'greatest', 'social', 'movement', 'last', 'century', 'belongs', 'americans', 'people', 'prefer', 'play', 'racial', 'games', 'movie', 'fits', 'racially', 'divisive', 'discussion', 'owns', 'history', 'civil', 'rights', 'movement', 'fits', 'polarizing', 'racial', 'figures', 'like', 'jesse', 'jackson', 'sharpton', 'regularly', 'exploit', 'history', 'civil', 'rights', 'movement', 'personal', 'gain', 'hosting', 'television', 'shows', 'getting', 'money', 'corporations', 'hard', 'work', 'addressing', 'high', 'rates', 'black', 'crime', 'school', 'dropouts', 'family', 'breakdown', 'also', 'fits', 'many', 'white', 'politicians', 'blame', 'poor', 'every', 'problem', 'find', 'easy', 'push', 'minority', 'voters', 'districts', 'ignoring', 'nation', 'history', 'denying', 'black', 'people', 'right', 'vote', 'version', 'race', 'hustle', 'display', 'hollywood', 'celebrate', 'king', 'hero', 'director', 'black', 'decided', 'make', 'president', 'lyndon', 'johnson', 'white', 'villain', 'one', 'scene', 'johnson', 'erupts', 'anger', 'king', 'telling', 'civil', 'rights', 'leader', 'got', 'one', 'big', 'issue', 'got', 'one', 'hundred', 'one', 'people', 'room', 'black', 'white', 'aides', 'president', 'king', 'say', 'confrontation', 'ever', 'happened', 'movie', 'also', 'johnson', 'approving', 'fbi', 'director', 'edgar', 'hoover', 'scheme', 'send', 'king', 'wife', 'audio', 'recording', 'husband', 'sex', 'another', 'woman', 'historical', 'record', 'clear', 'yes', 'tape', 'real', 'johnson', 'nothing', 'tape', 'nothing', 'events', 'selma', 'bill', 'moyers', 'called', 'worst', 'kind', 'creative', 'license', 'suggesting', 'opposite', 'truth', 'director', 'duvernay', 'called', 'distortion', 'said', 'people', 'care', 'history', 'problem', 'argued', 'crediting', 'johnson', 'supporting', 'selma', 'march', 'jaw', 'dropping', 'offensive', 'amounted', 'ignoring', 'black', 'citizens', 'made', 'fact', 'johnson', 'explicitly', 'endorsed', 'idea', 'taking', 'movement', 'selma', 'recorded', 'phone', 'call', 'king', 'nuisance', 'white', 'directors', 'similarly', 'distorted', 'civil', 'rights', 'history', 'film', 'mississippi', 'burning', 'featured', 'two', 'heroes', 'white', 'fbi', 'agents', 'incredible', 'distortion', 'story', 'bravery', 'civil', 'rights', 'workers', 'dared', 'south', 'stand', 'beleaguered', 'black', 'heroes', 'racial', 'oppression', 'truth', 'fbi', 'often', 'league', 'local', 'police', 'departments', 'covering', 'racially', 'motivated', 'murder', 'distortion', 'rationalized', 'smart', 'box', 'office', 'decision', 'offer', 'white', 'heroes', 'white', 'audiences', 'black', 'director', 'chance', 'make', 'hollywood', 'first', 'big', 'movie', 'king', 'sees', 'time', 'payback', 'brand', 'distortion', 'race', 'retains', 'powerful', 'grip', 'american', 'guilt', 'fear', 'lust', 'anger', 'controlling', 'narrative', 'important', 'key', 'narrative', 'facts', 'slavery', 'legal', 'segregation', 'fight', 'equal', 'rights', 'facts', 'king', 'subject', 'constant', 'power', 'struggle', 'duvernay', 'saying', 'tell', 'story', 'black', 'story', 'black', 'audiences', 'black', 'hero', 'twist', 'facts', 'pleases', 'mark', 'twain', 'said', 'get', 'facts', 'first', 'distort', 'much', 'please', 'facts', 'mostly', 'white', 'students', 'went', 'south', 'freedom', 'summer', 'white', 'ministers', 'rabbis', 'took', 'great', 'risks', 'even', 'died', 'cause', 'white', 'government', 'officials', 'like', 'john', 'doar', 'nicholas', 'katzenbach', 'put', 'racist', 'mobs', 'black', 'people', 'none', 'diminishes', 'contributions', 'black', 'people', 'truth', 'president', 'johnson', 'worked', 'make', 'movement', 'success', 'president', 'famously', 'brought', 'tears', 'king', 'eyes', 'told', 'joint', 'session', 'congress', 'television', 'audience', 'million', 'every', 'american', 'stand', 'equal', 'voting', 'rights', 'cause', 'must', 'cause', 'president', 'said', 'negroes', 'really', 'must', 'overcome', 'crippling', 'legacy', 'bigotry', 'injustice', 'rhetorical', 'crescendo', 'president', 'said', 'shall', 'overcome', 'used', 'phrase', 'told', 'nation', 'side', 'civil', 'rights', 'black', 'people', 'author', 'history', 'civil', 'rights', 'movement', 'eyes', 'prize', 'america', 'civil', 'rights', 'years', 'done', 'enough', 'research', 'know', 'fair', 'account', 'great', 'social', 'movement', 'acknowledge', 'lyndon', 'baines', 'johnson', 'civil', 'rights', 'hero', 'king', 'need', 'anyone', 'put', 'look', 'heroic', 'really', 'hero', 'fact', 'juan', 'williams', 'host', 'fnc', 'five', 'one', 'seven', 'rotating', 'fox', 'personalities']\"\n",
      "Label: 1\n",
      "Notícia:  b\"['jury', 'jodi', 'arias', 'case', 'tasked', 'deciding', 'whether', 'sentenced', 'life', 'prison', 'death', 'killing', 'lover', 'nearly', 'seven', 'years', 'ago', 'unable', 'agree', 'terms', 'sentencing', 'thursday', 'removing', 'possibility', 'death', 'sentence', 'judge', 'declared', 'mistrial', 'sentence', 'arias', 'either', 'life', 'prison', 'life', 'term', 'possibility', 'release', 'years', 'marked', 'second', 'time', 'jury', 'deadlocked', 'punishment', 'disappointment', 'prosecutors', 'argued', 'death', 'penalty', 'nearly', 'seven', 'year', 'legal', 'battle', 'arias', 'arias', 'convicted', 'murder', 'lengthy', 'trial', 'became', 'sensation', 'tawdry', 'revelations', 'relationship', 'victim', 'travis', 'alexander', 'victim', 'sister', 'samantha', 'alexander', 'sobbed', 'court', 'decision', 'announced', 'jurors', 'deliberated', 'hours', 'five', 'day', 'span', 'earlier', 'week', 'arias', 'attorneys', 'said', 'jurors', 'impasse', 'judge', 'denied', 'mistrial', 'request', 'verdict', 'rule', 'possibility', 'hung', 'jury', 'arias', 'stabbed', 'slashed', 'alexander', 'nearly', 'times', 'slit', 'throat', 'deeply', 'nearly', 'decapitated', 'shot', 'forehead', 'left', 'body', 'shower', 'suburban', 'phoenix', 'home', 'friends', 'found', 'five', 'days', 'later', 'initially', 'denied', 'anything', 'killing', 'later', 'admitted', 'killed', 'alexander', 'claimed', 'self', 'defense', 'attacked', 'prosecutors', 'said', 'premeditated', 'murder', 'carried', 'jealous', 'rage', 'wanted', 'end', 'affair', 'planned', 'trip', 'mexico', 'another', 'woman', 'jury', 'deadlocked', 'punishment', 'prompting', 'sentencing', 'retrial', 'began', 'october', 'chris', 'hughes', 'friend', 'alexander', 'told', 'kpho', 'hung', 'jury', 'would', 'frustrating', 'personal', 'opinion', 'earned', 'death', 'penalty', 'hughes', 'said', 'would', 'life', 'prison', 'never', 'gets', 'deserves', 'life', 'death', 'row', 'inmate', 'day', 'convicted', 'murder', 'arias', 'gave', 'jailhouse', 'interview', 'local', 'fox', 'reporter', 'said', 'rather', 'death', 'penalty', 'believe', 'death', 'ultimate', 'freedom', 'said', 'associated', 'press', 'contributed', 'report']\"\n",
      "Label: 1\n"
     ]
    }
   ],
   "source": [
    "#Cria tensor dataset e divide em batches\n",
    "\n",
    "batch_size = 128\n",
    "\n",
    "raw_train_ds = tf.data.Dataset.from_tensor_slices((ds_train.token, ds_train.label.values))\n",
    "raw_test_ds = tf.data.Dataset.from_tensor_slices((ds_test.token, ds_test.label.values))\n",
    "raw_val_ds = tf.data.Dataset.from_tensor_slices((ds_val.token, ds_val.label.values))\n",
    "\n",
    "raw_train_ds = raw_train_ds.batch(batch_size)\n",
    "raw_test_ds = raw_test_ds.batch(batch_size)\n",
    "raw_val_ds = raw_val_ds.batch(batch_size)\n",
    "\n",
    "for text_batch, label_batch in raw_train_ds.take(1):\n",
    "  for i in range(10):\n",
    "    print(\"Notícia: \", text_batch.numpy()[i])\n",
    "    print(\"Label:\", label_batch.numpy()[i])"
   ]
  },
  {
   "cell_type": "code",
   "execution_count": null,
   "metadata": {
    "id": "yYrBa1aLHWhN"
   },
   "outputs": [],
   "source": [
    "# vetorizador padrao\n",
    "VOCAB_SIZE = 1000\n",
    "vectorize_layer = tf.keras.layers.TextVectorization(\n",
    "    max_tokens=VOCAB_SIZE)\n",
    "vectorize_layer.adapt(raw_train_ds.map(lambda text, label: text))"
   ]
  },
  {
   "cell_type": "code",
   "execution_count": null,
   "metadata": {
    "id": "k7KQJL07Ep_q"
   },
   "outputs": [],
   "source": [
    "rnn_model = create_RNN_model(vectorize_layer=vectorize_layer)\n"
   ]
  },
  {
   "cell_type": "code",
   "execution_count": null,
   "metadata": {
    "colab": {
     "base_uri": "https://localhost:8080/",
     "height": 1000
    },
    "executionInfo": {
     "elapsed": 4135925,
     "status": "ok",
     "timestamp": 1684477029876,
     "user": {
      "displayName": "Kaio Figueira",
      "userId": "12273812170235882328"
     },
     "user_tz": 180
    },
    "id": "Dd93ub5WE8Hf",
    "outputId": "5f8d6016-ae52-44d6-d44d-5cc3db3e772c"
   },
   "outputs": [
    {
     "name": "stdout",
     "output_type": "stream",
     "text": [
      "Epoch 1/10\n",
      "38/38 [==============================] - 412s 10s/step - loss: 0.6915 - accuracy: 0.4976 - val_loss: 0.6886 - val_accuracy: 0.5076\n",
      "Epoch 2/10\n",
      "38/38 [==============================] - 384s 10s/step - loss: 0.6854 - accuracy: 0.4976 - val_loss: 0.6802 - val_accuracy: 0.5076\n",
      "Epoch 3/10\n",
      "38/38 [==============================] - 386s 10s/step - loss: 0.6719 - accuracy: 0.4976 - val_loss: 0.6573 - val_accuracy: 0.5076\n",
      "Epoch 4/10\n",
      "38/38 [==============================] - 386s 10s/step - loss: 0.6047 - accuracy: 0.5818 - val_loss: 0.5511 - val_accuracy: 0.7652\n",
      "Epoch 5/10\n",
      "38/38 [==============================] - 383s 10s/step - loss: 0.4668 - accuracy: 0.7727 - val_loss: 0.4286 - val_accuracy: 0.8157\n",
      "Epoch 6/10\n",
      "38/38 [==============================] - 384s 10s/step - loss: 0.3886 - accuracy: 0.8344 - val_loss: 0.3601 - val_accuracy: 0.8535\n",
      "Epoch 7/10\n",
      "38/38 [==============================] - 387s 10s/step - loss: 0.3561 - accuracy: 0.8390 - val_loss: 0.3833 - val_accuracy: 0.8586\n",
      "Epoch 8/10\n",
      "38/38 [==============================] - 387s 10s/step - loss: 0.3149 - accuracy: 0.8655 - val_loss: 0.3354 - val_accuracy: 0.8586\n",
      "Epoch 9/10\n",
      "38/38 [==============================] - 388s 10s/step - loss: 0.2825 - accuracy: 0.8788 - val_loss: 0.3232 - val_accuracy: 0.8611\n",
      "Epoch 10/10\n",
      "38/38 [==============================] - 388s 10s/step - loss: 0.2636 - accuracy: 0.8884 - val_loss: 0.3039 - val_accuracy: 0.8737\n",
      "\n",
      "Tempo de execução do modelo\n",
      "01:08:30.432163\n"
     ]
    },
    {
     "name": "stderr",
     "output_type": "stream",
     "text": [
      "WARNING:absl:Found untraced functions such as lstm_cell_1_layer_call_fn, lstm_cell_1_layer_call_and_return_conditional_losses, lstm_cell_2_layer_call_fn, lstm_cell_2_layer_call_and_return_conditional_losses while saving (showing 4 of 4). These functions will not be directly callable after loading.\n"
     ]
    },
    {
     "data": {
      "image/png": "[encoded data removed]",
      "text/plain": [
       "<Figure size 640x480 with 1 Axes>"
      ]
     },
     "metadata": {},
     "output_type": "display_data"
    },
    {
     "data": {
      "image/png": "[encoded data removed]",
      "text/plain": [
       "<Figure size 640x480 with 1 Axes>"
      ]
     },
     "metadata": {},
     "output_type": "display_data"
    }
   ],
   "source": [
    "start = time.time()\n",
    "\n",
    "history = rnn_model.fit(raw_train_ds, epochs=10, validation_data=raw_val_ds)\n",
    "\n",
    "end = time.time()\n",
    "timer(start=start, end=end)\n",
    "\n",
    "rnn_model.save('/content/drive/MyDrive/Mentorama/ProjetoFinal/modelo/RNN_model')\n",
    "plot_loss(history)\n",
    "plot_accuracy(history)"
   ]
  },
  {
   "cell_type": "markdown",
   "metadata": {
    "id": "Jtss1RVXtzJN"
   },
   "source": [
    "#### Modelo Regressão Linear(Binário)"
   ]
  },
  {
   "cell_type": "code",
   "execution_count": null,
   "metadata": {
    "id": "tYoIOJPUojnf"
   },
   "outputs": [],
   "source": [
    "#Cria tensor dataset e divide em batches\n",
    "\n",
    "batch_size = 128\n",
    "\n",
    "raw_train_ds_bi = tf.data.Dataset.from_tensor_slices((ds_train.text.values, ds_train.label.values))\n",
    "raw_test_ds_bi = tf.data.Dataset.from_tensor_slices((ds_test.text.values, ds_test.label.values))\n",
    "raw_val_ds_bi = tf.data.Dataset.from_tensor_slices((ds_val.text.values, ds_val.label.values))\n",
    "\n",
    "raw_train_ds_bi = raw_train_ds_bi.batch(batch_size)\n",
    "raw_test_ds_bi = raw_test_ds_bi.batch(batch_size)\n",
    "raw_val_ds_bi = raw_val_ds_bi.batch(batch_size)"
   ]
  },
  {
   "cell_type": "code",
   "execution_count": null,
   "metadata": {
    "id": "PobOU5QPpBuR"
   },
   "outputs": [],
   "source": [
    "from tensorflow import keras\n",
    "from keras.layers import TextVectorization\n",
    "\n",
    "VOCAB_SIZE = 10000\n",
    "\n",
    "# vetorizador binário\n",
    "binary_vectorize_layer = TextVectorization(\n",
    "    max_tokens=VOCAB_SIZE,\n",
    "    output_mode='binary')\n",
    "\n",
    "# adaptando o vetorizador\n",
    "train_text = raw_train_ds_bi.map(lambda text, labels: text)\n",
    "\n",
    "binary_vectorize_layer.adapt(train_text)"
   ]
  },
  {
   "cell_type": "code",
   "execution_count": null,
   "metadata": {
    "colab": {
     "base_uri": "https://localhost:8080/"
    },
    "executionInfo": {
     "elapsed": 24,
     "status": "ok",
     "timestamp": 1684477031094,
     "user": {
      "displayName": "Kaio Figueira",
      "userId": "12273812170235882328"
     },
     "user_tz": 180
    },
    "id": "LsmpEd0YpCDN",
    "outputId": "234c7b2b-ccef-407a-d522-3931a3eb6ac1"
   },
   "outputs": [
    {
     "name": "stdout",
     "output_type": "stream",
     "text": [
      "Notícia tf.Tensor(b'By James Holbrooks A day after the administration of President Recep Tayyip Erdo\\xc4\\x9fan dismissed an additional 10,000 civil employees and shut down another 15 media... ', shape=(), dtype=string)\n",
      "Label tf.Tensor(0, shape=(), dtype=int64)\n",
      "\n",
      "Questão de dados binarios vetorizados: tf.Tensor([[1. 1. 0. ... 0. 0. 0.]], shape=(1, 10000), dtype=float32)\n"
     ]
    }
   ],
   "source": [
    "# vamos ver um exemplo da vetorização\n",
    "text_batch, label_batch = next(iter(raw_train_ds_bi))\n",
    "first_question, first_label = text_batch[0], label_batch[0]\n",
    "\n",
    "print(\"Notícia\", first_question)\n",
    "print(\"Label\", first_label)\n",
    "print()\n",
    "\n",
    "print(\"Questão de dados binarios vetorizados:\",\n",
    "      binary_vectorize_text(first_question, first_label)[0])"
   ]
  },
  {
   "cell_type": "code",
   "execution_count": null,
   "metadata": {
    "id": "yO4ZfoT5poR5"
   },
   "outputs": [],
   "source": [
    "# aplicando a vetorização em todos os datasets\n",
    "binary_train_ds = raw_train_ds_bi.map(binary_vectorize_text)\n",
    "binary_val_ds = raw_val_ds_bi.map(binary_vectorize_text)\n",
    "binary_test_ds = raw_test_ds_bi.map(binary_vectorize_text)\n",
    "\n",
    "# otimizando o algoritmo\n",
    "binary_train_ds = configure_dataset(binary_train_ds)\n",
    "binary_val_ds = configure_dataset(binary_val_ds)\n",
    "binary_test_ds = configure_dataset(binary_test_ds)"
   ]
  },
  {
   "cell_type": "code",
   "execution_count": null,
   "metadata": {
    "colab": {
     "base_uri": "https://localhost:8080/",
     "height": 1000
    },
    "executionInfo": {
     "elapsed": 7092,
     "status": "ok",
     "timestamp": 1684477038172,
     "user": {
      "displayName": "Kaio Figueira",
      "userId": "12273812170235882328"
     },
     "user_tz": 180
    },
    "id": "pSCiez_ymGUN",
    "outputId": "6cc78fc7-3236-4644-fb15-4b0bc0bf98e1"
   },
   "outputs": [
    {
     "name": "stdout",
     "output_type": "stream",
     "text": [
      "Epoch 1/10\n",
      "38/38 [==============================] - 2s 29ms/step - loss: 0.4857 - accuracy: 0.8011 - val_loss: 0.3419 - val_accuracy: 0.9091\n",
      "Epoch 2/10\n",
      "38/38 [==============================] - 0s 5ms/step - loss: 0.2693 - accuracy: 0.9318 - val_loss: 0.2663 - val_accuracy: 0.9242\n",
      "Epoch 3/10\n",
      "38/38 [==============================] - 0s 5ms/step - loss: 0.2046 - accuracy: 0.9520 - val_loss: 0.2335 - val_accuracy: 0.9217\n",
      "Epoch 4/10\n",
      "38/38 [==============================] - 0s 5ms/step - loss: 0.1673 - accuracy: 0.9627 - val_loss: 0.2133 - val_accuracy: 0.9242\n",
      "Epoch 5/10\n",
      "38/38 [==============================] - 0s 6ms/step - loss: 0.1421 - accuracy: 0.9710 - val_loss: 0.1992 - val_accuracy: 0.9242\n",
      "Epoch 6/10\n",
      "38/38 [==============================] - 0s 5ms/step - loss: 0.1235 - accuracy: 0.9775 - val_loss: 0.1889 - val_accuracy: 0.9268\n",
      "Epoch 7/10\n",
      "38/38 [==============================] - 0s 5ms/step - loss: 0.1093 - accuracy: 0.9834 - val_loss: 0.1812 - val_accuracy: 0.9268\n",
      "Epoch 8/10\n",
      "38/38 [==============================] - 0s 5ms/step - loss: 0.0979 - accuracy: 0.9863 - val_loss: 0.1753 - val_accuracy: 0.9293\n",
      "Epoch 9/10\n",
      "38/38 [==============================] - 0s 5ms/step - loss: 0.0886 - accuracy: 0.9886 - val_loss: 0.1708 - val_accuracy: 0.9293\n",
      "Epoch 10/10\n",
      "38/38 [==============================] - 0s 4ms/step - loss: 0.0809 - accuracy: 0.9897 - val_loss: 0.1674 - val_accuracy: 0.9293\n",
      "\n",
      "Tempo de execução do modelo\n",
      "00:00:5.293510\n"
     ]
    },
    {
     "name": "stderr",
     "output_type": "stream",
     "text": [
      "WARNING:absl:Found untraced functions such as _update_step_xla while saving (showing 1 of 1). These functions will not be directly callable after loading.\n"
     ]
    },
    {
     "data": {
      "image/png": "[encoded data removed]",
      "text/plain": [
       "<Figure size 640x480 with 1 Axes>"
      ]
     },
     "metadata": {},
     "output_type": "display_data"
    },
    {
     "data": {
      "image/png": "[encoded data removed]",
      "text/plain": [
       "<Figure size 640x480 with 1 Axes>"
      ]
     },
     "metadata": {},
     "output_type": "display_data"
    }
   ],
   "source": [
    "start = time.time()\n",
    "\n",
    "binary_model = create_binary_model()\n",
    "\n",
    "history = binary_model.fit(binary_train_ds, validation_data=binary_val_ds, epochs=10)\n",
    "\n",
    "end = time.time()\n",
    "timer(start=start, end=end)\n",
    "\n",
    "binary_model.save('/content/drive/MyDrive/Mentorama/ProjetoFinal/modelo/Binary_model')\n",
    "plot_loss(history)\n",
    "plot_accuracy(history)"
   ]
  },
  {
   "cell_type": "code",
   "execution_count": null,
   "metadata": {
    "colab": {
     "base_uri": "https://localhost:8080/"
    },
    "executionInfo": {
     "elapsed": 10,
     "status": "ok",
     "timestamp": 1684477038173,
     "user": {
      "displayName": "Kaio Figueira",
      "userId": "12273812170235882328"
     },
     "user_tz": 180
    },
    "id": "icLtTTmkmy74",
    "outputId": "834ed28e-46de-4a25-c8b0-b6ccc67cbde8"
   },
   "outputs": [
    {
     "name": "stdout",
     "output_type": "stream",
     "text": [
      "Modelo de Regressão Linear em dados binarios vetorizados:\n",
      "Model: \"sequential_1\"\n",
      "_________________________________________________________________\n",
      " Layer (type)                Output Shape              Param #   \n",
      "=================================================================\n",
      " dense_2 (Dense)             (None, 2)                 20002     \n",
      "                                                                 \n",
      "=================================================================\n",
      "Total params: 20,002\n",
      "Trainable params: 20,002\n",
      "Non-trainable params: 0\n",
      "_________________________________________________________________\n",
      "None\n"
     ]
    }
   ],
   "source": [
    "print(\"Modelo de Regressão Linear em dados binarios vetorizados:\")\n",
    "print(binary_model.summary())"
   ]
  },
  {
   "cell_type": "markdown",
   "metadata": {
    "id": "_FAa6zBct7A_"
   },
   "source": [
    "#### Modelo Convolucional de 1 Dimensão(Inteiro)"
   ]
  },
  {
   "cell_type": "code",
   "execution_count": null,
   "metadata": {
    "id": "WLuS-LCIzJQI"
   },
   "outputs": [],
   "source": [
    "VOCAB_SIZE = 10000\n",
    "MAX_SEQUENCE_LENGTH = 100\n",
    "\n",
    "# vetorizador inteiro\n",
    "int_vectorize_layer = TextVectorization(\n",
    "    max_tokens=VOCAB_SIZE,\n",
    "    output_mode='int',\n",
    "    output_sequence_length=MAX_SEQUENCE_LENGTH)\n",
    "\n",
    "# adaptando o vetorizador\n",
    "int_vectorize_layer.adapt(train_text)"
   ]
  },
  {
   "cell_type": "code",
   "execution_count": null,
   "metadata": {
    "colab": {
     "base_uri": "https://localhost:8080/"
    },
    "executionInfo": {
     "elapsed": 21,
     "status": "ok",
     "timestamp": 1684477039297,
     "user": {
      "displayName": "Kaio Figueira",
      "userId": "12273812170235882328"
     },
     "user_tz": 180
    },
    "id": "RbOfUMkFzJhU",
    "outputId": "dad68787-6eb6-4f92-9aba-b4bff029cae4"
   },
   "outputs": [
    {
     "name": "stdout",
     "output_type": "stream",
     "text": [
      "Notícia tf.Tensor(b'By James Holbrooks A day after the administration of President Recep Tayyip Erdo\\xc4\\x9fan dismissed an additional 10,000 civil employees and shut down another 15 media... ', shape=(), dtype=string)\n",
      "Label tf.Tensor(0, shape=(), dtype=int64)\n",
      "\n",
      "Questão vetorizada em 'int': tf.Tensor(\n",
      "[[  19  889    1    6  169   72    2  278    4   67    1    1    1 2489\n",
      "    30 1446 2897  644 1252    5 2158  161  173  630  145    0    0    0\n",
      "     0    0    0    0    0    0    0    0    0    0    0    0    0    0\n",
      "     0    0    0    0    0    0    0    0    0    0    0    0    0    0\n",
      "     0    0    0    0    0    0    0    0    0    0    0    0    0    0\n",
      "     0    0    0    0    0    0    0    0    0    0    0    0    0    0\n",
      "     0    0    0    0    0    0    0    0    0    0    0    0    0    0\n",
      "     0    0]], shape=(1, 100), dtype=int64)\n"
     ]
    }
   ],
   "source": [
    "# vamos ver um exemplo da vetorização\n",
    "text_batch, label_batch = next(iter(raw_train_ds_bi))\n",
    "first_question, first_label = text_batch[0], label_batch[0]\n",
    "\n",
    "print(\"Notícia\", first_question)\n",
    "print(\"Label\", first_label)\n",
    "print()\n",
    "\n",
    "print(\"Questão vetorizada em 'int':\",\n",
    "      int_vectorize_text(first_question, first_label)[0])"
   ]
  },
  {
   "cell_type": "code",
   "execution_count": null,
   "metadata": {
    "colab": {
     "base_uri": "https://localhost:8080/"
    },
    "executionInfo": {
     "elapsed": 18,
     "status": "ok",
     "timestamp": 1684477039298,
     "user": {
      "displayName": "Kaio Figueira",
      "userId": "12273812170235882328"
     },
     "user_tz": 180
    },
    "id": "zezux0BRzJyJ",
    "outputId": "34fd1607-2cb3-44ac-c3d3-0eea555e66dd"
   },
   "outputs": [
    {
     "name": "stdout",
     "output_type": "stream",
     "text": [
      "12--->  as\n",
      "31--->  they\n",
      "Tamanho do vocabulário: 10000\n"
     ]
    }
   ],
   "source": [
    "# vamos ver um exemplo do vocabulário\n",
    "print(\"12---> \", int_vectorize_layer.get_vocabulary()[12])\n",
    "print(\"31---> \", int_vectorize_layer.get_vocabulary()[31])\n",
    "print(\"Tamanho do vocabulário: {}\".format(len(int_vectorize_layer.get_vocabulary())))"
   ]
  },
  {
   "cell_type": "code",
   "execution_count": null,
   "metadata": {
    "id": "PfQkP_CPzKDE"
   },
   "outputs": [],
   "source": [
    "# aplicando a vetorização em todos os datasets\n",
    "int_train_ds = raw_train_ds_bi.map(int_vectorize_text)\n",
    "int_val_ds = raw_val_ds_bi.map(int_vectorize_text)\n",
    "int_test_ds = raw_test_ds_bi.map(int_vectorize_text)\n",
    "\n",
    "# otimizando o algoritmo\n",
    "int_train_ds = configure_dataset(int_train_ds)\n",
    "int_val_ds = configure_dataset(int_val_ds)\n",
    "int_test_ds = configure_dataset(int_test_ds)"
   ]
  },
  {
   "cell_type": "code",
   "execution_count": null,
   "metadata": {
    "colab": {
     "base_uri": "https://localhost:8080/",
     "height": 1000
    },
    "executionInfo": {
     "elapsed": 27338,
     "status": "ok",
     "timestamp": 1684477066625,
     "user": {
      "displayName": "Kaio Figueira",
      "userId": "12273812170235882328"
     },
     "user_tz": 180
    },
    "id": "NF6V3m4omlyK",
    "outputId": "191b571e-c0c2-426a-b530-8ae600efa9d6"
   },
   "outputs": [
    {
     "name": "stdout",
     "output_type": "stream",
     "text": [
      "Epoch 1/10\n",
      "38/38 [==============================] - 15s 246ms/step - loss: 0.6751 - accuracy: 0.5995 - val_loss: 0.6316 - val_accuracy: 0.7576\n",
      "Epoch 2/10\n",
      "38/38 [==============================] - 0s 7ms/step - loss: 0.5476 - accuracy: 0.8674 - val_loss: 0.4387 - val_accuracy: 0.8586\n",
      "Epoch 3/10\n",
      "38/38 [==============================] - 0s 7ms/step - loss: 0.3085 - accuracy: 0.9141 - val_loss: 0.2788 - val_accuracy: 0.8813\n",
      "Epoch 4/10\n",
      "38/38 [==============================] - 0s 7ms/step - loss: 0.1590 - accuracy: 0.9573 - val_loss: 0.2285 - val_accuracy: 0.9015\n",
      "Epoch 5/10\n",
      "38/38 [==============================] - 0s 7ms/step - loss: 0.0818 - accuracy: 0.9846 - val_loss: 0.2131 - val_accuracy: 0.9040\n",
      "Epoch 6/10\n",
      "38/38 [==============================] - 0s 7ms/step - loss: 0.0406 - accuracy: 0.9958 - val_loss: 0.2150 - val_accuracy: 0.9091\n",
      "Epoch 7/10\n",
      "38/38 [==============================] - 0s 6ms/step - loss: 0.0207 - accuracy: 0.9989 - val_loss: 0.2215 - val_accuracy: 0.9091\n",
      "Epoch 8/10\n",
      "38/38 [==============================] - 0s 7ms/step - loss: 0.0114 - accuracy: 0.9996 - val_loss: 0.2291 - val_accuracy: 0.9091\n",
      "Epoch 9/10\n",
      "38/38 [==============================] - 0s 7ms/step - loss: 0.0071 - accuracy: 1.0000 - val_loss: 0.2391 - val_accuracy: 0.9066\n",
      "Epoch 10/10\n",
      "38/38 [==============================] - 0s 5ms/step - loss: 0.0047 - accuracy: 1.0000 - val_loss: 0.2508 - val_accuracy: 0.9091\n"
     ]
    },
    {
     "name": "stderr",
     "output_type": "stream",
     "text": [
      "WARNING:absl:Found untraced functions such as _jit_compiled_convolution_op while saving (showing 1 of 1). These functions will not be directly callable after loading.\n"
     ]
    },
    {
     "name": "stdout",
     "output_type": "stream",
     "text": [
      "\n",
      "Tempo de execução do modelo\n",
      "00:00:26.387877\n"
     ]
    },
    {
     "data": {
      "image/png": "[encoded data removed]",
      "text/plain": [
       "<Figure size 640x480 with 1 Axes>"
      ]
     },
     "metadata": {},
     "output_type": "display_data"
    },
    {
     "data": {
      "image/png": "[encoded data removed]",
      "text/plain": [
       "<Figure size 640x480 with 1 Axes>"
      ]
     },
     "metadata": {},
     "output_type": "display_data"
    }
   ],
   "source": [
    "# `vocab_size` é `VOCAB_SIZE + 1` e `0` é usado adicionalmente para padding.\n",
    "int_model = create_int_model(vocab_size=VOCAB_SIZE + 1, num_labels=2)\n",
    "\n",
    "start = time.time()\n",
    "\n",
    "history = int_model.fit(int_train_ds, validation_data=int_val_ds, epochs=10)\n",
    "int_model.save('/content/drive/MyDrive/Mentorama/ProjetoFinal/modelo/Int_model')\n",
    "\n",
    "end = time.time()\n",
    "timer(start=start, end=end)\n",
    "\n",
    "plot_loss(history)\n",
    "plot_accuracy(history)"
   ]
  },
  {
   "cell_type": "code",
   "execution_count": null,
   "metadata": {
    "colab": {
     "base_uri": "https://localhost:8080/"
    },
    "executionInfo": {
     "elapsed": 45,
     "status": "ok",
     "timestamp": 1684477066626,
     "user": {
      "displayName": "Kaio Figueira",
      "userId": "12273812170235882328"
     },
     "user_tz": 180
    },
    "id": "VB2a4zUum22e",
    "outputId": "a401cb23-eae4-42cf-c230-b76a034a699b"
   },
   "outputs": [
    {
     "name": "stdout",
     "output_type": "stream",
     "text": [
      "Modelo de rede convolucional com dados vetorizados em int:\n",
      "Model: \"sequential_2\"\n",
      "_________________________________________________________________\n",
      " Layer (type)                Output Shape              Param #   \n",
      "=================================================================\n",
      " embedding_1 (Embedding)     (None, None, 64)          640064    \n",
      "                                                                 \n",
      " conv1d (Conv1D)             (None, None, 64)          20544     \n",
      "                                                                 \n",
      " global_max_pooling1d (Globa  (None, 64)               0         \n",
      " lMaxPooling1D)                                                  \n",
      "                                                                 \n",
      " dense_3 (Dense)             (None, 2)                 130       \n",
      "                                                                 \n",
      "=================================================================\n",
      "Total params: 660,738\n",
      "Trainable params: 660,738\n",
      "Non-trainable params: 0\n",
      "_________________________________________________________________\n",
      "None\n"
     ]
    }
   ],
   "source": [
    "print(\"Modelo de rede convolucional com dados vetorizados em int:\")\n",
    "print(int_model.summary())"
   ]
  },
  {
   "cell_type": "markdown",
   "metadata": {
    "id": "Ca_2JDbgywiQ"
   },
   "source": [
    "####Avaliação da acurácia de todos os modelos"
   ]
  },
  {
   "cell_type": "code",
   "execution_count": null,
   "metadata": {
    "colab": {
     "base_uri": "https://localhost:8080/"
    },
    "executionInfo": {
     "elapsed": 5427,
     "status": "ok",
     "timestamp": 1684477072020,
     "user": {
      "displayName": "Kaio Figueira",
      "userId": "12273812170235882328"
     },
     "user_tz": 180
    },
    "id": "z0ZYEd-um4x3",
    "outputId": "58b6959c-e694-4a40-d0e3-52139d21890a"
   },
   "outputs": [
    {
     "name": "stdout",
     "output_type": "stream",
     "text": [
      "10/10 [==============================] - 4s 371ms/step - loss: 0.2970 - accuracy: 0.8620\n",
      "10/10 [==============================] - 0s 18ms/step - loss: 0.1901 - accuracy: 0.9293\n",
      "10/10 [==============================] - 0s 18ms/step - loss: 0.3018 - accuracy: 0.8906\n",
      "RNN model accuracy: 86.20%\n",
      "Linear Regression model accuracy: 92.93%\n",
      "Conv model accuracy: 89.06%\n"
     ]
    }
   ],
   "source": [
    "rnn_loss, rnn_accuracy = rnn_model.evaluate(raw_test_ds)\n",
    "binary_loss, binary_accuracy = binary_model.evaluate(binary_test_ds)\n",
    "int_loss, int_accuracy = int_model.evaluate(int_test_ds)\n",
    "\n",
    "print(\"RNN model accuracy: {:2.2%}\".format(rnn_accuracy))\n",
    "print(\"Linear Regression model accuracy: {:2.2%}\".format(binary_accuracy))\n",
    "print(\"Conv model accuracy: {:2.2%}\".format(int_accuracy))"
   ]
  },
  {
   "cell_type": "code",
   "execution_count": null,
   "metadata": {
    "id": "3bOVWfWXALCk"
   },
   "outputs": [],
   "source": [
    "rnn_metrics = {\n",
    "    'loss': rnn_loss, 'accuracy': rnn_accuracy\n",
    "}\n",
    "binary_metrics = {\n",
    "    'loss': binary_loss, 'accuracy': binary_accuracy\n",
    "}\n",
    "\n",
    "int_metrics = {\n",
    "    'loss': int_loss, 'accuracy': int_accuracy\n",
    "}\n",
    "import json\n",
    "\n",
    "with open('/content/drive/MyDrive/Mentorama/ProjetoFinal/metrics/rnn_metrics.json', 'w') as fp:\n",
    "  json.dump(rnn_metrics, fp)\n",
    "\n",
    "with open('/content/drive/MyDrive/Mentorama/ProjetoFinal/metrics/binary_metrics.json', 'w') as fp:\n",
    "  json.dump(binary_metrics, fp)\n",
    "\n",
    "with open('/content/drive/MyDrive/Mentorama/ProjetoFinal/metrics/int_metrics.json', 'w') as fp:\n",
    "  json.dump(int_metrics, fp)"
   ]
  },
  {
   "cell_type": "markdown",
   "metadata": {
    "id": "ifrC4U7PkBz8"
   },
   "source": [
    "### Modelo Final\n",
    "\n"
   ]
  },
  {
   "cell_type": "markdown",
   "metadata": {
    "id": "mQAmfNgms3YI"
   },
   "source": [
    "Irei escolher como melhor modelo o de regressão linear, ja que ele teve a melhor acuracia. "
   ]
  },
  {
   "cell_type": "code",
   "execution_count": null,
   "metadata": {
    "colab": {
     "base_uri": "https://localhost:8080/"
    },
    "executionInfo": {
     "elapsed": 280,
     "status": "ok",
     "timestamp": 1684478087543,
     "user": {
      "displayName": "Kaio Figueira",
      "userId": "12273812170235882328"
     },
     "user_tz": 180
    },
    "id": "KMaWS1Xfm5UW",
    "outputId": "1fbd4681-2abf-4674-a3fd-127a11f930f8"
   },
   "outputs": [
    {
     "name": "stdout",
     "output_type": "stream",
     "text": [
      "10/10 [==============================] - 0s 5ms/step - loss: 0.1901 - accuracy: 0.9293\n",
      "Accuracy: 92.93%\n"
     ]
    }
   ],
   "source": [
    "best_model = binary_model\n",
    "\n",
    "# Utilizando dados de teste para avaliar o modelo\n",
    "loss, accuracy = best_model.evaluate(binary_test_ds)\n",
    "print(\"Accuracy: {:2.2%}\".format(accuracy))"
   ]
  },
  {
   "cell_type": "code",
   "execution_count": null,
   "metadata": {
    "colab": {
     "base_uri": "https://localhost:8080/"
    },
    "executionInfo": {
     "elapsed": 1627,
     "status": "ok",
     "timestamp": 1684478173262,
     "user": {
      "displayName": "Kaio Figueira",
      "userId": "12273812170235882328"
     },
     "user_tz": 180
    },
    "id": "KiAJVtoTus-B",
    "outputId": "a090f402-1787-41b8-8820-f8c3f3a50f0a"
   },
   "outputs": [
    {
     "name": "stderr",
     "output_type": "stream",
     "text": [
      "WARNING:absl:Found untraced functions such as _update_step_xla while saving (showing 1 of 1). These functions will not be directly callable after loading.\n"
     ]
    }
   ],
   "source": [
    "# salvando modelo\n",
    "best_model.save('/content/drive/MyDrive/Mentorama/ProjetoFinal/modelo/melhor_modelo')"
   ]
  },
  {
   "cell_type": "markdown",
   "metadata": {
    "id": "_1c4f6I_yD8y"
   },
   "source": [
    "#### Salvando modelo para produção"
   ]
  },
  {
   "cell_type": "code",
   "execution_count": null,
   "metadata": {
    "id": "CCd0UjiOyF00"
   },
   "outputs": [],
   "source": [
    "from joblib import dump, load"
   ]
  },
  {
   "cell_type": "code",
   "execution_count": null,
   "metadata": {
    "colab": {
     "base_uri": "https://localhost:8080/"
    },
    "executionInfo": {
     "elapsed": 5,
     "status": "ok",
     "timestamp": 1684478182629,
     "user": {
      "displayName": "Kaio Figueira",
      "userId": "12273812170235882328"
     },
     "user_tz": 180
    },
    "id": "0xXo8wLryIgs",
    "outputId": "5dea6aed-96d2-411d-8c66-8fff22a11379"
   },
   "outputs": [
    {
     "data": {
      "text/plain": [
       "['/content/drive/MyDrive/Mentorama/ProjetoFinal/fake-news-detector_v0.joblib']"
      ]
     },
     "execution_count": 46,
     "metadata": {},
     "output_type": "execute_result"
    }
   ],
   "source": [
    "dump(best_model, '/content/drive/MyDrive/Mentorama/ProjetoFinal/fake-news-detector_v0.joblib')"
   ]
  },
  {
   "cell_type": "markdown",
   "metadata": {
    "id": "VIaUm7QqxfEi"
   },
   "source": [
    "#Considerações finais\n",
    "\n",
    "1-O modelo de regressão linear teve o melhor desempenho, totalizando 92.93% de acuracia e com tempo de treinamento de 5s\n",
    "\n",
    "2-O modelo de RNN teve o pior desempenho, sem contar que seu tempo de treinamento foi muito maior do que todos os modelos, 1h 8min 30s.\n",
    "\n",
    "3-Todos os modelos foram treinados por 10 epocas cada.\n",
    "\n",
    "Qualquer duvida, fico a disposição.\n",
    "Obrigado.\n",
    "\n",
    "Kaio."
   ]
  }
 ],
 "metadata": {
  "accelerator": "GPU",
  "colab": {
   "collapsed_sections": [
    "x39iI2rYviT9",
    "t5WYJL9hvqqw",
    "V7LtIJqUcKER",
    "e-LJO3ggIbhX",
    "3HFjCAJWtvqZ",
    "Jtss1RVXtzJN",
    "_FAa6zBct7A_",
    "Ca_2JDbgywiQ",
    "ifrC4U7PkBz8"
   ],
   "gpuType": "T4",
   "provenance": [
    {
     "file_id": "1C1tOcMidDJ8o27TtSUYirM8D_DZ_kgfb",
     "timestamp": 1684383755681
    }
   ]
  },
  "gpuClass": "standard",
  "kernelspec": {
   "display_name": "Python 3 (ipykernel)",
   "language": "python",
   "name": "python3"
  },
  "language_info": {
   "codemirror_mode": {
    "name": "ipython",
    "version": 3
   },
   "file_extension": ".py",
   "mimetype": "text/x-python",
   "name": "python",
   "nbconvert_exporter": "python",
   "pygments_lexer": "ipython3",
   "version": "3.9.13"
  }
 },
 "nbformat": 4,
 "nbformat_minor": 1
}
